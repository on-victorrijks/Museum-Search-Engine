{
 "cells": [
  {
   "cell_type": "code",
   "execution_count": 25,
   "id": "6bb5f8bb",
   "metadata": {
    "executionInfo": {
     "elapsed": 16,
     "status": "ok",
     "timestamp": 1747314761040,
     "user": {
      "displayName": "V R",
      "userId": "13450465406636340234"
     },
     "user_tz": -120
    },
    "id": "6bb5f8bb"
   },
   "outputs": [],
   "source": [
    "import pandas as pd\n",
    "import torch\n",
    "import torch.nn as nn\n",
    "import numpy as np\n",
    "from tqdm import tqdm\n",
    "from torch.utils.data import Dataset, DataLoader\n",
    "from PIL import Image\n",
    "from transformers import CLIPProcessor, CLIPModel\n",
    "import os\n",
    "from ast import literal_eval\n",
    "from dotenv import load_dotenv "
   ]
  },
  {
   "cell_type": "code",
   "execution_count": 26,
   "id": "9945c89b",
   "metadata": {
    "colab": {
     "base_uri": "https://localhost:8080/"
    },
    "executionInfo": {
     "elapsed": 1137,
     "status": "ok",
     "timestamp": 1747314762179,
     "user": {
      "displayName": "V R",
      "userId": "13450465406636340234"
     },
     "user_tz": -120
    },
    "id": "9945c89b",
    "outputId": "2a6dfff5-1c89-4fb8-e850-655ea7836d24"
   },
   "outputs": [
    {
     "name": "stdout",
     "output_type": "stream",
     "text": [
      "cuda:0\n"
     ]
    }
   ],
   "source": [
    "# loading variables from .env file\n",
    "load_dotenv(\"../../private_data/.env\") \n",
    "\n",
    "# PARENT gets us to the root of the project\n",
    "PARENT = \"./../../\"\n",
    "\n",
    "FOLDER_TABLE = PARENT + os.getenv(\"FOLDER_TABLE\")\n",
    "FILE_FABRITIUS_DATA = PARENT + os.getenv(\"FILE_FABRITIUS_DATA\")\n",
    "FILE_FABRITIUS_DATA_FILTERED = PARENT + os.getenv(\"FILE_FABRITIUS_DATA_FILTERED\")\n",
    "FILE_FABRITIUS_DATA_FILTERED_DOWNLOADED = PARENT + os.getenv(\"FILE_FABRITIUS_DATA_FILTERED_DOWNLOADED\")\n",
    "FOLDER_FIGURES = PARENT + os.getenv(\"FOLDER_FIGURES\")\n",
    "IMAGES_FOLDER = PARENT + os.getenv(\"IMAGES_FOLDER\")\n",
    "\n",
    "DB_INPUT_ARTPIECES = PARENT + os.getenv(\"DB_INPUT_ARTPIECES\")\n",
    "DB_INPUT_ARTISTS = PARENT + os.getenv(\"DB_INPUT_ARTISTS\")\n",
    "\n",
    "BENCHMARK_2_ATTACHED = PARENT + os.getenv(\"BENCHMARK_2_ATTACHED\")\n",
    "BENCHMARK_2_EXPLODED = PARENT + os.getenv(\"BENCHMARK_2_EXPLODED\")\n",
    "\n",
    "FILE_SUBJECTMATTERS_PARSED = PARENT + os.getenv(\"FILE_SUBJECTMATTERS_PARSED\")\n",
    "\n",
    "device = torch.device(\"cuda:0\" if torch.cuda.is_available() else \"cpu\")\n",
    "print(device)"
   ]
  },
  {
   "cell_type": "code",
   "execution_count": 27,
   "id": "a9f6089f",
   "metadata": {
    "executionInfo": {
     "elapsed": 34,
     "status": "ok",
     "timestamp": 1747314762212,
     "user": {
      "displayName": "V R",
      "userId": "13450465406636340234"
     },
     "user_tz": -120
    },
    "id": "a9f6089f"
   },
   "outputs": [],
   "source": [
    "# Get the artworks data\n",
    "ARTWORKS = pd.read_csv(DB_INPUT_ARTPIECES)"
   ]
  },
  {
   "cell_type": "code",
   "execution_count": 28,
   "id": "c9030027",
   "metadata": {
    "executionInfo": {
     "elapsed": 272,
     "status": "ok",
     "timestamp": 1747314762490,
     "user": {
      "displayName": "V R",
      "userId": "13450465406636340234"
     },
     "user_tz": -120
    },
    "id": "c9030027"
   },
   "outputs": [],
   "source": [
    "# Methods to get an image from a recordID\n",
    "def fixPath(path):\n",
    "    return path.replace(\".././\", \"../\")\n",
    "\n",
    "recordID_to_imageLowResFilename = {}\n",
    "for index, row in ARTWORKS.iterrows():\n",
    "    recordID = row[\"recordID\"]\n",
    "    path = row[\"imageLowResFilename\"]\n",
    "\n",
    "    # Fix the imageLowResFilename\n",
    "    path = fixPath(IMAGES_FOLDER + path[1:])\n",
    "\n",
    "    path = path.replace(\"internet\", \"Internet\")\n",
    "    path = path.replace(\"Mod\", \"mod\")\n",
    "    path = path.replace(\"MOD\", \"mod\")\n",
    "    path = path.replace(\"Old\", \"old\")\n",
    "    path = path.replace(\"Stefaan\", \"stefaan\")\n",
    "    path = path.replace(\"Art-Foto\", \"art-foto\")\n",
    "    path = path.replace(\"\\\\\", \"/\")\n",
    "\n",
    "    recordID_to_imageLowResFilename[recordID] = path\n",
    "\n",
    "# Test it\n",
    "for recordID, path in recordID_to_imageLowResFilename.items():\n",
    "    if not os.path.exists(path):\n",
    "        print(f\"Path does not exist: {path}\")"
   ]
  },
  {
   "cell_type": "code",
   "execution_count": 29,
   "id": "f8d42054",
   "metadata": {},
   "outputs": [],
   "source": [
    "def v_literal_eval(val):\n",
    "    try:\n",
    "        return literal_eval(val)\n",
    "    except (ValueError, SyntaxError):\n",
    "        return np.nan"
   ]
  },
  {
   "cell_type": "code",
   "execution_count": 30,
   "id": "fb34820f",
   "metadata": {
    "colab": {
     "base_uri": "https://localhost:8080/",
     "height": 174
    },
    "executionInfo": {
     "elapsed": 161,
     "status": "ok",
     "timestamp": 1747314762691,
     "user": {
      "displayName": "V R",
      "userId": "13450465406636340234"
     },
     "user_tz": -120
    },
    "id": "fb34820f",
    "outputId": "2bf6a821-6548-40f8-f058-cda5ec248863"
   },
   "outputs": [
    {
     "data": {
      "text/html": [
       "<div>\n",
       "<style scoped>\n",
       "    .dataframe tbody tr th:only-of-type {\n",
       "        vertical-align: middle;\n",
       "    }\n",
       "\n",
       "    .dataframe tbody tr th {\n",
       "        vertical-align: top;\n",
       "    }\n",
       "\n",
       "    .dataframe thead th {\n",
       "        text-align: right;\n",
       "    }\n",
       "</style>\n",
       "<table border=\"1\" class=\"dataframe\">\n",
       "  <thead>\n",
       "    <tr style=\"text-align: right;\">\n",
       "      <th></th>\n",
       "      <th>recordID</th>\n",
       "      <th>proper_nouns</th>\n",
       "      <th>tokenized_length</th>\n",
       "    </tr>\n",
       "  </thead>\n",
       "  <tbody>\n",
       "    <tr>\n",
       "      <th>0</th>\n",
       "      <td>64</td>\n",
       "      <td>Jésus, Evangiles, Calvaire, Jérusalem, Passion...</td>\n",
       "      <td>31</td>\n",
       "    </tr>\n",
       "    <tr>\n",
       "      <th>1</th>\n",
       "      <td>78</td>\n",
       "      <td>Louise van der Hecht</td>\n",
       "      <td>7</td>\n",
       "    </tr>\n",
       "    <tr>\n",
       "      <th>2</th>\n",
       "      <td>79</td>\n",
       "      <td>Robert Schumann</td>\n",
       "      <td>5</td>\n",
       "    </tr>\n",
       "    <tr>\n",
       "      <th>3</th>\n",
       "      <td>81</td>\n",
       "      <td>Marguerite Khnopff</td>\n",
       "      <td>8</td>\n",
       "    </tr>\n",
       "    <tr>\n",
       "      <th>4</th>\n",
       "      <td>105</td>\n",
       "      <td>Cupidon, Ariane, Bacchus</td>\n",
       "      <td>11</td>\n",
       "    </tr>\n",
       "    <tr>\n",
       "      <th>...</th>\n",
       "      <td>...</td>\n",
       "      <td>...</td>\n",
       "      <td>...</td>\n",
       "    </tr>\n",
       "    <tr>\n",
       "      <th>1896</th>\n",
       "      <td>11252</td>\n",
       "      <td>Namur</td>\n",
       "      <td>4</td>\n",
       "    </tr>\n",
       "    <tr>\n",
       "      <th>1897</th>\n",
       "      <td>11521</td>\n",
       "      <td>Andromède, Céto, Persée</td>\n",
       "      <td>12</td>\n",
       "    </tr>\n",
       "    <tr>\n",
       "      <th>1898</th>\n",
       "      <td>11525</td>\n",
       "      <td>Nicolas-Henri Tardieu, Marie-Anne Hortemels</td>\n",
       "      <td>15</td>\n",
       "    </tr>\n",
       "    <tr>\n",
       "      <th>1899</th>\n",
       "      <td>11533</td>\n",
       "      <td>Rik Wouters, Nel Wouters, Amsterdam</td>\n",
       "      <td>13</td>\n",
       "    </tr>\n",
       "    <tr>\n",
       "      <th>1900</th>\n",
       "      <td>11638</td>\n",
       "      <td>Périclès Pantazis</td>\n",
       "      <td>9</td>\n",
       "    </tr>\n",
       "  </tbody>\n",
       "</table>\n",
       "<p>1901 rows × 3 columns</p>\n",
       "</div>"
      ],
      "text/plain": [
       "      recordID                                       proper_nouns  \\\n",
       "0           64  Jésus, Evangiles, Calvaire, Jérusalem, Passion...   \n",
       "1           78                               Louise van der Hecht   \n",
       "2           79                                    Robert Schumann   \n",
       "3           81                                 Marguerite Khnopff   \n",
       "4          105                           Cupidon, Ariane, Bacchus   \n",
       "...        ...                                                ...   \n",
       "1896     11252                                              Namur   \n",
       "1897     11521                            Andromède, Céto, Persée   \n",
       "1898     11525        Nicolas-Henri Tardieu, Marie-Anne Hortemels   \n",
       "1899     11533                Rik Wouters, Nel Wouters, Amsterdam   \n",
       "1900     11638                                  Périclès Pantazis   \n",
       "\n",
       "      tokenized_length  \n",
       "0                   31  \n",
       "1                    7  \n",
       "2                    5  \n",
       "3                    8  \n",
       "4                   11  \n",
       "...                ...  \n",
       "1896                 4  \n",
       "1897                12  \n",
       "1898                15  \n",
       "1899                13  \n",
       "1900                 9  \n",
       "\n",
       "[1901 rows x 3 columns]"
      ]
     },
     "execution_count": 30,
     "metadata": {},
     "output_type": "execute_result"
    }
   ],
   "source": [
    "DATA_ATTACHED = pd.read_csv(BENCHMARK_2_ATTACHED)\n",
    "DATA_ATTACHED"
   ]
  },
  {
   "cell_type": "code",
   "execution_count": 31,
   "id": "dc532622",
   "metadata": {},
   "outputs": [
    {
     "name": "stdout",
     "output_type": "stream",
     "text": [
      "object\n"
     ]
    },
    {
     "data": {
      "text/html": [
       "<div>\n",
       "<style scoped>\n",
       "    .dataframe tbody tr th:only-of-type {\n",
       "        vertical-align: middle;\n",
       "    }\n",
       "\n",
       "    .dataframe tbody tr th {\n",
       "        vertical-align: top;\n",
       "    }\n",
       "\n",
       "    .dataframe thead th {\n",
       "        text-align: right;\n",
       "    }\n",
       "</style>\n",
       "<table border=\"1\" class=\"dataframe\">\n",
       "  <thead>\n",
       "    <tr style=\"text-align: right;\">\n",
       "      <th></th>\n",
       "      <th>proper_nouns</th>\n",
       "      <th>recordID</th>\n",
       "    </tr>\n",
       "  </thead>\n",
       "  <tbody>\n",
       "    <tr>\n",
       "      <th>0</th>\n",
       "      <td>Aar</td>\n",
       "      <td>[8437]</td>\n",
       "    </tr>\n",
       "    <tr>\n",
       "      <th>1</th>\n",
       "      <td>Ab Urbe Condita</td>\n",
       "      <td>[1369]</td>\n",
       "    </tr>\n",
       "    <tr>\n",
       "      <th>2</th>\n",
       "      <td>Abigaïl</td>\n",
       "      <td>[5299]</td>\n",
       "    </tr>\n",
       "    <tr>\n",
       "      <th>3</th>\n",
       "      <td>Abraham</td>\n",
       "      <td>[6622, 7295]</td>\n",
       "    </tr>\n",
       "    <tr>\n",
       "      <th>4</th>\n",
       "      <td>Abraham Bloemaert</td>\n",
       "      <td>[5354]</td>\n",
       "    </tr>\n",
       "    <tr>\n",
       "      <th>...</th>\n",
       "      <td>...</td>\n",
       "      <td>...</td>\n",
       "    </tr>\n",
       "    <tr>\n",
       "      <th>1660</th>\n",
       "      <td>Zélande</td>\n",
       "      <td>[625, 1598, 7587, 8256]</td>\n",
       "    </tr>\n",
       "    <tr>\n",
       "      <th>1661</th>\n",
       "      <td>Égypte</td>\n",
       "      <td>[1062]</td>\n",
       "    </tr>\n",
       "    <tr>\n",
       "      <th>1662</th>\n",
       "      <td>Élysée Reclus</td>\n",
       "      <td>[10189]</td>\n",
       "    </tr>\n",
       "    <tr>\n",
       "      <th>1663</th>\n",
       "      <td>Énée</td>\n",
       "      <td>[10241]</td>\n",
       "    </tr>\n",
       "    <tr>\n",
       "      <th>1664</th>\n",
       "      <td>États Unis d'Amérique</td>\n",
       "      <td>[2897, 7429, 7430]</td>\n",
       "    </tr>\n",
       "  </tbody>\n",
       "</table>\n",
       "<p>1665 rows × 2 columns</p>\n",
       "</div>"
      ],
      "text/plain": [
       "               proper_nouns                 recordID\n",
       "0                       Aar                   [8437]\n",
       "1           Ab Urbe Condita                   [1369]\n",
       "2                   Abigaïl                   [5299]\n",
       "3                   Abraham             [6622, 7295]\n",
       "4         Abraham Bloemaert                   [5354]\n",
       "...                     ...                      ...\n",
       "1660                Zélande  [625, 1598, 7587, 8256]\n",
       "1661                 Égypte                   [1062]\n",
       "1662          Élysée Reclus                  [10189]\n",
       "1663                   Énée                  [10241]\n",
       "1664  États Unis d'Amérique       [2897, 7429, 7430]\n",
       "\n",
       "[1665 rows x 2 columns]"
      ]
     },
     "execution_count": 31,
     "metadata": {},
     "output_type": "execute_result"
    }
   ],
   "source": [
    "DATA_EXPLODED = pd.read_csv(BENCHMARK_2_EXPLODED, converters={'recordID': v_literal_eval})\n",
    "print(DATA_EXPLODED[\"recordID\"].sample(1).dtype)\n",
    "DATA_EXPLODED"
   ]
  },
  {
   "cell_type": "markdown",
   "id": "78b39050",
   "metadata": {
    "id": "78b39050"
   },
   "source": [
    "# Get the model"
   ]
  },
  {
   "cell_type": "code",
   "execution_count": 32,
   "id": "b6e49ac6",
   "metadata": {
    "executionInfo": {
     "elapsed": 16,
     "status": "ok",
     "timestamp": 1747314763013,
     "user": {
      "displayName": "V R",
      "userId": "13450465406636340234"
     },
     "user_tz": -120
    },
    "id": "b6e49ac6"
   },
   "outputs": [],
   "source": [
    "base_model_february_finetuned = \"openai/clip-vit-large-patch14\" # art-base\n",
    "base_model_march_finetuned = \"openai/clip-vit-large-patch14\" # art-base\n",
    "\n",
    "base_model_mini = \"openai/clip-vit-base-patch32\" # art-mini\n",
    "base_model_base = \"openai/clip-vit-large-patch14\" # art-base\n",
    "base_model_large = \"openai/clip-vit-large-patch14-336\" # art-large\n",
    "\n",
    "basic_mini = \"openai/clip-vit-base-patch32\"\n",
    "basic_base = \"openai/clip-vit-large-patch14\"\n",
    "basic_large = \"openai/clip-vit-large-patch14-336\""
   ]
  },
  {
   "cell_type": "code",
   "execution_count": 33,
   "id": "45d1b91e",
   "metadata": {
    "colab": {
     "base_uri": "https://localhost:8080/"
    },
    "executionInfo": {
     "elapsed": 5,
     "status": "ok",
     "timestamp": 1747315423485,
     "user": {
      "displayName": "V R",
      "userId": "13450465406636340234"
     },
     "user_tz": -120
    },
    "id": "45d1b91e",
    "outputId": "1c706ab4-d9e0-4710-fe77-7b41ab2e61d3"
   },
   "outputs": [
    {
     "name": "stdout",
     "output_type": "stream",
     "text": [
      "Running benchmark on: art-base-TextFT\n"
     ]
    }
   ],
   "source": [
    "#model_name = \"basic-large\"  # OK\n",
    "#model_name = \"art-large\" # OK\n",
    "#model_name = \"art-base\" # OK\n",
    "#model_name = \"basic-base\" # OK\n",
    "model_name = \"february_finetuned\" # OK\n",
    "#model_name = \"march_finetuned\" # OK\n",
    "#model_name = \"art-mini\" # OK\n",
    "#model_name = \"basic-mini\" # OK\n",
    "model_name = \"art-base-TextFT\"\n",
    "\n",
    "print(f\"Running benchmark on: {model_name}\")"
   ]
  },
  {
   "cell_type": "code",
   "execution_count": 34,
   "id": "bd2d0efd",
   "metadata": {
    "executionInfo": {
     "elapsed": 1,
     "status": "ok",
     "timestamp": 1747315423494,
     "user": {
      "displayName": "V R",
      "userId": "13450465406636340234"
     },
     "user_tz": -120
    },
    "id": "bd2d0efd"
   },
   "outputs": [],
   "source": [
    "# Create folder to export the results\n",
    "RESULT_FOLDER = \"../benchmarks/benchmark_2\"\n",
    "os.makedirs(RESULT_FOLDER, exist_ok=True)"
   ]
  },
  {
   "cell_type": "code",
   "execution_count": 35,
   "id": "157d2aa1",
   "metadata": {},
   "outputs": [],
   "source": [
    "root = \"../../private_data/MODELS/\""
   ]
  },
  {
   "cell_type": "code",
   "execution_count": 36,
   "id": "0267774f",
   "metadata": {
    "colab": {
     "base_uri": "https://localhost:8080/"
    },
    "executionInfo": {
     "elapsed": 3695,
     "status": "ok",
     "timestamp": 1747315427197,
     "user": {
      "displayName": "V R",
      "userId": "13450465406636340234"
     },
     "user_tz": -120
    },
    "id": "0267774f",
    "outputId": "715fad68-b35c-4d0d-e5ef-13706807ffc9"
   },
   "outputs": [
    {
     "name": "stdout",
     "output_type": "stream",
     "text": [
      "Running benchmark on: art-base-TextFT with batch size: 2\n"
     ]
    }
   ],
   "source": [
    "if model_name == \"february_finetuned\":\n",
    "  processor = CLIPProcessor.from_pretrained(base_model_base)\n",
    "  model = CLIPModel.from_pretrained(base_model_base).to(device)\n",
    "  model_weights_path = root + \"2025-02-05 17_09_07_allFocus_5.pt\"\n",
    "  model.load_state_dict(torch.load(model_weights_path, weights_only=True))\n",
    "  BATCH_SIZE = 2 # 32\n",
    "\n",
    "elif model_name == \"march_finetuned\":\n",
    "  processor = CLIPProcessor.from_pretrained(base_model_base)\n",
    "  model = CLIPModel.from_pretrained(base_model_base).to(device)\n",
    "  model_weights_path = root + \"2025-03-29 16 59 53_allFocus_5.pt\"\n",
    "  model.load_state_dict(torch.load(model_weights_path, weights_only=True))\n",
    "  BATCH_SIZE = 2 # 32\n",
    "\n",
    "elif model_name == \"art-mini\":\n",
    "  processor = CLIPProcessor.from_pretrained(base_model_mini)\n",
    "  model = CLIPModel.from_pretrained(base_model_mini).to(device)\n",
    "  model_weights_path = root + \"art-mini.pt\"\n",
    "  model.load_state_dict(torch.load(model_weights_path, weights_only=True))\n",
    "  BATCH_SIZE = 8 # 256\n",
    "\n",
    "elif model_name == \"art-base\":\n",
    "  processor = CLIPProcessor.from_pretrained(base_model_base)\n",
    "  model = CLIPModel.from_pretrained(base_model_base).to(device)\n",
    "  model_weights_path = root + \"art-base.pt\"\n",
    "  model.load_state_dict(torch.load(model_weights_path, weights_only=True))\n",
    "  BATCH_SIZE = 2 # 32\n",
    "\n",
    "elif model_name == \"art-large\":\n",
    "  processor = CLIPProcessor.from_pretrained(base_model_large)\n",
    "  model = CLIPModel.from_pretrained(base_model_large).to(device)\n",
    "  model_weights_path = root + \"art-large.pt\"\n",
    "  model.load_state_dict(torch.load(model_weights_path, weights_only=True))\n",
    "  BATCH_SIZE = 1 # 16\n",
    "\n",
    "elif model_name == \"basic-mini\":\n",
    "  processor = CLIPProcessor.from_pretrained(basic_mini)\n",
    "  model = CLIPModel.from_pretrained(basic_mini).to(device)\n",
    "  BATCH_SIZE = 8 # 256\n",
    "\n",
    "elif model_name == \"basic-base\":\n",
    "  processor = CLIPProcessor.from_pretrained(basic_base)\n",
    "  model = CLIPModel.from_pretrained(basic_base).to(device)\n",
    "  BATCH_SIZE = 2 # 32\n",
    "\n",
    "elif model_name == \"basic-large\":\n",
    "  processor = CLIPProcessor.from_pretrained(basic_large)\n",
    "  model = CLIPModel.from_pretrained(basic_large).to(device)\n",
    "  BATCH_SIZE = 1 # 16\n",
    "\n",
    "else:\n",
    "  processor = CLIPProcessor.from_pretrained(base_model_base)\n",
    "  model = CLIPModel.from_pretrained(base_model_base).to(device)\n",
    "  model_weights_path = root + f\"{model_name}.pt\"\n",
    "  model.load_state_dict(torch.load(model_weights_path, weights_only=True))\n",
    "  BATCH_SIZE = 2 # 32\n",
    "\n",
    "print(f\"Running benchmark on: {model_name} with batch size: {BATCH_SIZE}\")"
   ]
  },
  {
   "cell_type": "markdown",
   "id": "bc954d78",
   "metadata": {
    "id": "bc954d78"
   },
   "source": [
    "# Configure the benchmark"
   ]
  },
  {
   "cell_type": "code",
   "execution_count": 37,
   "id": "66a947de",
   "metadata": {
    "executionInfo": {
     "elapsed": 2,
     "status": "ok",
     "timestamp": 1747315427199,
     "user": {
      "displayName": "V R",
      "userId": "13450465406636340234"
     },
     "user_tz": -120
    },
    "id": "66a947de"
   },
   "outputs": [],
   "source": [
    "best_workers = 0 #10\n",
    "criterion = nn.CrossEntropyLoss()"
   ]
  },
  {
   "cell_type": "markdown",
   "id": "ec8f5a59",
   "metadata": {
    "id": "ec8f5a59"
   },
   "source": [
    "# Create the -ATTACHED and -EXPLODED datasets"
   ]
  },
  {
   "cell_type": "code",
   "execution_count": 38,
   "id": "aeadabd9",
   "metadata": {},
   "outputs": [],
   "source": [
    "artworks_recordIDs_attached = set()\n",
    "for recordID in DATA_ATTACHED[\"recordID\"]:\n",
    "    artworks_recordIDs_attached.add(recordID)\n",
    "\n",
    "artworks_recordIDs_attached = sorted(list(artworks_recordIDs_attached))\n",
    "\n",
    "artworks_recordIDs_exploded = set()\n",
    "for recordIDs in DATA_EXPLODED[\"recordID\"]:\n",
    "    for recordID in recordIDs:\n",
    "        artworks_recordIDs_exploded.add(recordID)\n",
    "artworks_recordIDs_exploded = sorted(list(artworks_recordIDs_exploded))\n",
    "\n",
    "# Merge them together\n",
    "artworks_recordIDs = artworks_recordIDs_attached + artworks_recordIDs_exploded\n",
    "artworks_recordIDs = sorted(list(set(artworks_recordIDs)))"
   ]
  },
  {
   "cell_type": "markdown",
   "id": "c733198c",
   "metadata": {
    "id": "c733198c"
   },
   "source": [
    "## Compute the images embeddings"
   ]
  },
  {
   "cell_type": "code",
   "execution_count": 39,
   "id": "234ce694",
   "metadata": {
    "colab": {
     "base_uri": "https://localhost:8080/"
    },
    "executionInfo": {
     "elapsed": 26063,
     "status": "ok",
     "timestamp": 1747315453275,
     "user": {
      "displayName": "V R",
      "userId": "13450465406636340234"
     },
     "user_tz": -120
    },
    "id": "234ce694",
    "outputId": "40353aed-9115-47d2-a7c4-ce1fbef6289b"
   },
   "outputs": [
    {
     "name": "stderr",
     "output_type": "stream",
     "text": [
      "Computing artworks embeddings: 100%|██████████| 953/953 [00:54<00:00, 17.34batch/s]\n"
     ]
    },
    {
     "name": "stdout",
     "output_type": "stream",
     "text": [
      "(1901, 768)\n",
      "(1905, 768)\n"
     ]
    }
   ],
   "source": [
    "class ArtworksImages(Dataset):\n",
    "    def __init__(self, recordIDs):\n",
    "        self.recordIDs = recordIDs\n",
    "\n",
    "    def __len__(self):\n",
    "        return len(self.recordIDs)\n",
    "\n",
    "    def __getitem__(self, idx):\n",
    "        if torch.is_tensor(idx):\n",
    "            idx = idx.tolist()\n",
    "\n",
    "        recordID = self.recordIDs[idx]\n",
    "        path = recordID_to_imageLowResFilename[recordID]\n",
    "\n",
    "        image = Image.open(path)\n",
    "\n",
    "        return image\n",
    "\n",
    "def ArtworksImagesBBuilder(images):\n",
    "    inputs = processor(text=[\"\"] * len(images), images=images, return_tensors=\"pt\", padding=True, truncation=True)\n",
    "    return inputs\n",
    "\n",
    "artworks_dataset = ArtworksImages(artworks_recordIDs)\n",
    "artworks_dataloader = DataLoader(\n",
    "    artworks_dataset,\n",
    "    batch_size=BATCH_SIZE,\n",
    "    shuffle=False,\n",
    "    num_workers=best_workers,\n",
    "    collate_fn=ArtworksImagesBBuilder,\n",
    "    pin_memory=True,\n",
    "    #prefetch_factor=2,\n",
    "    #persistent_workers=True,\n",
    ")\n",
    "\n",
    "def compute_images_embeddings(dataloader, model, device):\n",
    "    model.eval()\n",
    "    embeddings = []\n",
    "    with torch.no_grad():\n",
    "        for sample in tqdm(dataloader, desc=\"Computing artworks embeddings\", unit=\"batch\"):\n",
    "            input_ids = sample['input_ids'].to(device)\n",
    "            attention_mask = sample['attention_mask'].to(device)\n",
    "            pixel_values = sample['pixel_values'].to(device)\n",
    "\n",
    "            # Compute image embeddings\n",
    "            image_features = model.get_image_features(pixel_values=pixel_values)\n",
    "            image_features = image_features / image_features.norm(dim=-1, keepdim=True)\n",
    "            image_features = image_features.flatten(1)\n",
    "\n",
    "            embeddings.append(image_features)\n",
    "\n",
    "    embeddings = torch.cat(embeddings, dim=0)\n",
    "    embeddings = embeddings.cpu().numpy()\n",
    "    return embeddings\n",
    "\n",
    "artworks_embeddings_np_array = compute_images_embeddings(artworks_dataloader, model, device)\n",
    "artworks_embeddings = {}\n",
    "for i, recordID in enumerate(artworks_recordIDs):\n",
    "    artworks_embeddings[recordID] = artworks_embeddings_np_array[i]\n",
    "\n",
    "# Get the embeddings for the attached artworks\n",
    "artworks_embeddings_attached = []\n",
    "for recordID in artworks_recordIDs_attached:\n",
    "    artworks_embeddings_attached.append(artworks_embeddings[recordID])\n",
    "# Make a numpy array\n",
    "artworks_embeddings_attached = np.array(artworks_embeddings_attached)\n",
    "print(artworks_embeddings_attached.shape)\n",
    "\n",
    "# Get the embeddings for the exploded artworks\n",
    "artworks_embeddings_exploded = []\n",
    "for recordID in artworks_recordIDs_exploded:\n",
    "    artworks_embeddings_exploded.append(artworks_embeddings[recordID])\n",
    "# Make a numpy array\n",
    "artworks_embeddings_exploded = np.array(artworks_embeddings_exploded)\n",
    "print(artworks_embeddings_exploded.shape)"
   ]
  },
  {
   "cell_type": "markdown",
   "id": "151e8f86",
   "metadata": {},
   "source": [
    "## Compute the proper nouns embeddings"
   ]
  },
  {
   "cell_type": "code",
   "execution_count": 40,
   "id": "8e383853",
   "metadata": {},
   "outputs": [],
   "source": [
    "def compute_textual_embeddings(dataloader, model, device):\n",
    "    model.eval()\n",
    "    embeddings = []\n",
    "    with torch.no_grad():\n",
    "        for sample in tqdm(dataloader, desc=\"Computing textual embeddings\", unit=\"batch\"):\n",
    "            input_ids = sample['input_ids'].to(device)\n",
    "            attention_mask = sample['attention_mask'].to(device)\n",
    "\n",
    "            # Compute the embeddings\n",
    "            text_features = model.get_text_features(input_ids=input_ids, attention_mask=attention_mask)\n",
    "            text_features = text_features / text_features.norm(dim=-1, keepdim=True)\n",
    "            text_features = text_features.flatten(1)\n",
    "\n",
    "            embeddings.append(text_features)\n",
    "\n",
    "    embeddings = torch.cat(embeddings, dim=0)\n",
    "    embeddings = embeddings.cpu().numpy()\n",
    "    return embeddings\n",
    "\n",
    "def TextBBuilder(samples):\n",
    "    inputs = processor(text=samples, return_tensors=\"pt\", padding=True, truncation=True)\n",
    "    return inputs\n",
    "\n",
    "class TextDataset(Dataset):\n",
    "    def __init__(self, texts):\n",
    "        self.texts = texts\n",
    "\n",
    "    def __len__(self):\n",
    "        return len(self.texts)\n",
    "\n",
    "    def __getitem__(self, idx):\n",
    "        if torch.is_tensor(idx):\n",
    "            idx = idx.tolist()\n",
    "        text = self.texts[idx]\n",
    "        return text"
   ]
  },
  {
   "cell_type": "code",
   "execution_count": 41,
   "id": "bb1ef773",
   "metadata": {
    "colab": {
     "base_uri": "https://localhost:8080/"
    },
    "executionInfo": {
     "elapsed": 14125,
     "status": "ok",
     "timestamp": 1747315467414,
     "user": {
      "displayName": "V R",
      "userId": "13450465406636340234"
     },
     "user_tz": -120
    },
    "id": "bb1ef773",
    "outputId": "91200353-2c1c-4329-806c-4ec609bbc959"
   },
   "outputs": [
    {
     "name": "stderr",
     "output_type": "stream",
     "text": [
      "Computing textual embeddings: 100%|██████████| 951/951 [00:08<00:00, 110.61batch/s]\n"
     ]
    }
   ],
   "source": [
    "attached_dataset = TextDataset(DATA_ATTACHED[\"proper_nouns\"])\n",
    "attached_dataloader = DataLoader(\n",
    "    attached_dataset,\n",
    "    batch_size=BATCH_SIZE,\n",
    "    shuffle=False,\n",
    "    num_workers=best_workers,\n",
    "    collate_fn=TextBBuilder,\n",
    "    pin_memory=True,\n",
    "    #prefetch_factor=2,\n",
    "    #persistent_workers=True,\n",
    ")\n",
    "\n",
    "attached_embeddings = compute_textual_embeddings(attached_dataloader, model, device)"
   ]
  },
  {
   "cell_type": "code",
   "execution_count": 42,
   "id": "e9624894",
   "metadata": {
    "colab": {
     "base_uri": "https://localhost:8080/"
    },
    "executionInfo": {
     "elapsed": 4522,
     "status": "ok",
     "timestamp": 1747315471948,
     "user": {
      "displayName": "V R",
      "userId": "13450465406636340234"
     },
     "user_tz": -120
    },
    "id": "e9624894",
    "outputId": "eae37130-7fcc-4417-b0c5-b1e7a41b3eed"
   },
   "outputs": [
    {
     "name": "stderr",
     "output_type": "stream",
     "text": [
      "Computing textual embeddings: 100%|██████████| 833/833 [00:07<00:00, 109.81batch/s]\n"
     ]
    }
   ],
   "source": [
    "exploded_dataset = TextDataset(DATA_EXPLODED[\"proper_nouns\"])\n",
    "exploded_dataloader = DataLoader(\n",
    "    exploded_dataset,\n",
    "    batch_size=BATCH_SIZE,\n",
    "    shuffle=False,\n",
    "    num_workers=best_workers,\n",
    "    collate_fn=TextBBuilder,\n",
    "    pin_memory=True,\n",
    "    #prefetch_factor=2,\n",
    "    #persistent_workers=True,\n",
    ")\n",
    "\n",
    "exploded_embeddings = compute_textual_embeddings(exploded_dataloader, model, device)"
   ]
  },
  {
   "cell_type": "markdown",
   "id": "4619f924",
   "metadata": {
    "id": "4619f924"
   },
   "source": [
    "# -ATTACHED variant"
   ]
  },
  {
   "cell_type": "code",
   "execution_count": 43,
   "id": "08ab1ced",
   "metadata": {},
   "outputs": [],
   "source": [
    "def get_average_position(cosine_similarities):\n",
    "    positions = []\n",
    "    average_position = 0\n",
    "    for i in range(len(cosine_similarities)):\n",
    "        sorted_indices = np.argsort(cosine_similarities[i])[::-1]\n",
    "        rank = np.where(sorted_indices == i)[0][0] + 1\n",
    "        sorted_indices = [int(p) for p in sorted_indices]\n",
    "        positions.append(sorted_indices)\n",
    "        average_position += rank\n",
    "    average_position /= len(cosine_similarities)\n",
    "    return average_position, positions\n",
    "\n",
    "def get_MRR(cosine_similarities):\n",
    "    mrr = 0\n",
    "    for i in range(len(cosine_similarities)):\n",
    "        sorted_indices = np.argsort(cosine_similarities[i])[::-1]\n",
    "        rank = np.where(sorted_indices == i)[0][0] + 1\n",
    "        mrr += 1 / rank\n",
    "    mrr /= len(cosine_similarities)\n",
    "    return mrr\n",
    "\n",
    "def get_recall_at_k(cosine_similarities, k):\n",
    "    recall_at_k = 0\n",
    "    for i in range(len(cosine_similarities)):\n",
    "        sorted_indices = np.argsort(cosine_similarities[i])[::-1]\n",
    "        if i in sorted_indices[:k]:\n",
    "            recall_at_k += 1\n",
    "    recall_at_k /= len(cosine_similarities)\n",
    "    return recall_at_k\n",
    "\n",
    "def get_nDCG_at_k(cosine_similarities, k):\n",
    "    nDCG_at_k = 0\n",
    "    for i in range(len(cosine_similarities)):\n",
    "        sorted_indices = np.argsort(cosine_similarities[i])[::-1]\n",
    "        rank = np.where(sorted_indices == i)[0][0] + 1\n",
    "        nDCG_at_k += 1 / np.log2(rank + 1) if rank <= k else 0\n",
    "    nDCG_at_k /= len(cosine_similarities)\n",
    "    return nDCG_at_k\n",
    "\n",
    "def get_metrics_row(cosine_similarities):\n",
    "    recalls_k = [1,3,5,10]\n",
    "    nDCG_k = [1,3,5,10]\n",
    "\n",
    "    average_position, positions = get_average_position(cosine_similarities)\n",
    "    mrr = get_MRR(cosine_similarities)\n",
    "    recalls = [get_recall_at_k(cosine_similarities, k) for k in recalls_k]\n",
    "    nDCGs = [get_nDCG_at_k(cosine_similarities, k) for k in nDCG_k]\n",
    "\n",
    "    metrics = [average_position, mrr] + recalls + nDCGs\n",
    "\n",
    "    return metrics, positions"
   ]
  },
  {
   "cell_type": "code",
   "execution_count": 44,
   "id": "ae8a4849",
   "metadata": {
    "executionInfo": {
     "elapsed": 14,
     "status": "ok",
     "timestamp": 1747315471979,
     "user": {
      "displayName": "V R",
      "userId": "13450465406636340234"
     },
     "user_tz": -120
    },
    "id": "ae8a4849"
   },
   "outputs": [],
   "source": [
    "def run_attached_benchmark():\n",
    "    results = pd.DataFrame(columns=[\n",
    "        \"average_position\",\n",
    "        \"mrr\",\n",
    "        \"recall@1\",\n",
    "        \"recall@3\",\n",
    "        \"recall@5\",\n",
    "        \"recall@10\",\n",
    "        \"nDCG@1\",\n",
    "        \"nDCG@3\",\n",
    "        \"nDCG@5\",\n",
    "        \"nDCG@10\"\n",
    "    ])\n",
    "    \n",
    "    # Get the cosine similarities\n",
    "    cosine_similarities = attached_embeddings @ artworks_embeddings_attached.T\n",
    "    # Measure the metrics\n",
    "    metrics, positions = get_metrics_row(cosine_similarities)\n",
    "\n",
    "    results.loc[len(results)] = metrics\n",
    "\n",
    "    return results, positions"
   ]
  },
  {
   "cell_type": "markdown",
   "id": "d330d7c9",
   "metadata": {
    "id": "d330d7c9"
   },
   "source": [
    "# -EXPLODED variant"
   ]
  },
  {
   "cell_type": "code",
   "execution_count": 45,
   "id": "b579026d",
   "metadata": {
    "executionInfo": {
     "elapsed": 3,
     "status": "ok",
     "timestamp": 1747315471983,
     "user": {
      "displayName": "V R",
      "userId": "13450465406636340234"
     },
     "user_tz": -120
    },
    "id": "b579026d"
   },
   "outputs": [],
   "source": [
    "def run_exploded_benchmark():\n",
    "    results = pd.DataFrame(columns=[\n",
    "        \"overall_average_rank\",\n",
    "        \"average_rank\",\n",
    "        \"ranks\",\n",
    "        \"positions\"\n",
    "    ])\n",
    "    \n",
    "    # Get the cosine similarities\n",
    "    cosine_similarities = exploded_embeddings @ artworks_embeddings_exploded.T\n",
    "    # Measure the metrics\n",
    "\n",
    "    overall_average_rank = 0\n",
    "    for i in range(len(cosine_similarities)):\n",
    "        sorted_indices = np.argsort(cosine_similarities[i])[::-1] # shape = (len(artworks_recordIDs),)\n",
    "\n",
    "        # Get the recordIDs linked to this proper noun\n",
    "        recordIDs = DATA_EXPLODED.iloc[i][\"recordID\"]\n",
    "        ranks_i = []\n",
    "        for recordID in recordIDs:\n",
    "            # Get the index of the recordID in the artworks_recordIDs\n",
    "            index = artworks_recordIDs_exploded.index(recordID)\n",
    "            rank = np.where(sorted_indices == index)[0][0] + 1\n",
    "            ranks_i.append(int(rank)) \n",
    "\n",
    "        sorted_indices = [int(p) for p in sorted_indices]\n",
    "\n",
    "        mean_rank_i = np.mean(ranks_i)\n",
    "\n",
    "        results.loc[len(results)] = [None, mean_rank_i, ranks_i, sorted_indices]\n",
    "        overall_average_rank += mean_rank_i\n",
    "\n",
    "    overall_average_rank /= len(cosine_similarities)\n",
    "    results[\"overall_average_rank\"] = overall_average_rank\n",
    "\n",
    "    return results"
   ]
  },
  {
   "cell_type": "code",
   "execution_count": 46,
   "id": "b4d7024e",
   "metadata": {
    "colab": {
     "base_uri": "https://localhost:8080/",
     "height": 742
    },
    "executionInfo": {
     "elapsed": 7315,
     "status": "ok",
     "timestamp": 1747315479299,
     "user": {
      "displayName": "V R",
      "userId": "13450465406636340234"
     },
     "user_tz": -120
    },
    "id": "b4d7024e",
    "outputId": "acef58a3-63b1-4147-a54d-73aa1329dffd"
   },
   "outputs": [
    {
     "data": {
      "text/html": [
       "<div>\n",
       "<style scoped>\n",
       "    .dataframe tbody tr th:only-of-type {\n",
       "        vertical-align: middle;\n",
       "    }\n",
       "\n",
       "    .dataframe tbody tr th {\n",
       "        vertical-align: top;\n",
       "    }\n",
       "\n",
       "    .dataframe thead th {\n",
       "        text-align: right;\n",
       "    }\n",
       "</style>\n",
       "<table border=\"1\" class=\"dataframe\">\n",
       "  <thead>\n",
       "    <tr style=\"text-align: right;\">\n",
       "      <th></th>\n",
       "      <th>average_position</th>\n",
       "      <th>mrr</th>\n",
       "      <th>recall@1</th>\n",
       "      <th>recall@3</th>\n",
       "      <th>recall@5</th>\n",
       "      <th>recall@10</th>\n",
       "      <th>nDCG@1</th>\n",
       "      <th>nDCG@3</th>\n",
       "      <th>nDCG@5</th>\n",
       "      <th>nDCG@10</th>\n",
       "    </tr>\n",
       "  </thead>\n",
       "  <tbody>\n",
       "    <tr>\n",
       "      <th>0</th>\n",
       "      <td>291.999474</td>\n",
       "      <td>0.082631</td>\n",
       "      <td>0.036823</td>\n",
       "      <td>0.082062</td>\n",
       "      <td>0.114676</td>\n",
       "      <td>0.168858</td>\n",
       "      <td>0.036823</td>\n",
       "      <td>0.062817</td>\n",
       "      <td>0.076103</td>\n",
       "      <td>0.093278</td>\n",
       "    </tr>\n",
       "  </tbody>\n",
       "</table>\n",
       "</div>"
      ],
      "text/plain": [
       "   average_position       mrr  recall@1  recall@3  recall@5  recall@10  \\\n",
       "0        291.999474  0.082631  0.036823  0.082062  0.114676   0.168858   \n",
       "\n",
       "     nDCG@1    nDCG@3    nDCG@5   nDCG@10  \n",
       "0  0.036823  0.062817  0.076103  0.093278  "
      ]
     },
     "execution_count": 46,
     "metadata": {},
     "output_type": "execute_result"
    }
   ],
   "source": [
    "# Run the benchmarks !\n",
    "import pickle\n",
    "\n",
    "# Attached benchmark\n",
    "results_attached, positions_attached= run_attached_benchmark()\n",
    "results_attached.to_csv(RESULT_FOLDER + f\"/{model_name}_attached.csv\", index=False)\n",
    "# Save positions_attached\n",
    "with open(RESULT_FOLDER + f\"/{model_name}_positions_attached.pkl\", \"wb\") as f:\n",
    "    pickle.dump(positions_attached, f)\n",
    "\n",
    "results_attached"
   ]
  },
  {
   "cell_type": "code",
   "execution_count": 47,
   "id": "dfe62c50",
   "metadata": {},
   "outputs": [
    {
     "data": {
      "text/html": [
       "<div>\n",
       "<style scoped>\n",
       "    .dataframe tbody tr th:only-of-type {\n",
       "        vertical-align: middle;\n",
       "    }\n",
       "\n",
       "    .dataframe tbody tr th {\n",
       "        vertical-align: top;\n",
       "    }\n",
       "\n",
       "    .dataframe thead th {\n",
       "        text-align: right;\n",
       "    }\n",
       "</style>\n",
       "<table border=\"1\" class=\"dataframe\">\n",
       "  <thead>\n",
       "    <tr style=\"text-align: right;\">\n",
       "      <th></th>\n",
       "      <th>overall_average_rank</th>\n",
       "      <th>average_rank</th>\n",
       "      <th>ranks</th>\n",
       "      <th>positions</th>\n",
       "    </tr>\n",
       "  </thead>\n",
       "  <tbody>\n",
       "    <tr>\n",
       "      <th>0</th>\n",
       "      <td>340.931638</td>\n",
       "      <td>524.0</td>\n",
       "      <td>[524]</td>\n",
       "      <td>[1225, 176, 1601, 131, 1439, 1655, 1056, 322, ...</td>\n",
       "    </tr>\n",
       "    <tr>\n",
       "      <th>1</th>\n",
       "      <td>340.931638</td>\n",
       "      <td>131.0</td>\n",
       "      <td>[131]</td>\n",
       "      <td>[35, 1059, 859, 864, 187, 1875, 34, 888, 816, ...</td>\n",
       "    </tr>\n",
       "    <tr>\n",
       "      <th>2</th>\n",
       "      <td>340.931638</td>\n",
       "      <td>4.0</td>\n",
       "      <td>[4]</td>\n",
       "      <td>[864, 48, 857, 932, 1507, 1045, 367, 263, 863,...</td>\n",
       "    </tr>\n",
       "    <tr>\n",
       "      <th>3</th>\n",
       "      <td>340.931638</td>\n",
       "      <td>40.5</td>\n",
       "      <td>[61, 20]</td>\n",
       "      <td>[816, 364, 876, 456, 44, 1613, 263, 1595, 1589...</td>\n",
       "    </tr>\n",
       "    <tr>\n",
       "      <th>4</th>\n",
       "      <td>340.931638</td>\n",
       "      <td>423.0</td>\n",
       "      <td>[423]</td>\n",
       "      <td>[1613, 1278, 887, 1773, 841, 364, 1581, 1730, ...</td>\n",
       "    </tr>\n",
       "    <tr>\n",
       "      <th>...</th>\n",
       "      <td>...</td>\n",
       "      <td>...</td>\n",
       "      <td>...</td>\n",
       "      <td>...</td>\n",
       "    </tr>\n",
       "    <tr>\n",
       "      <th>1660</th>\n",
       "      <td>340.931638</td>\n",
       "      <td>57.5</td>\n",
       "      <td>[152, 1, 19, 58]</td>\n",
       "      <td>[352, 23, 1689, 112, 1568, 1429, 249, 1600, 12...</td>\n",
       "    </tr>\n",
       "    <tr>\n",
       "      <th>1661</th>\n",
       "      <td>340.931638</td>\n",
       "      <td>153.0</td>\n",
       "      <td>[153]</td>\n",
       "      <td>[1174, 1898, 413, 1507, 137, 835, 1811, 12, 33...</td>\n",
       "    </tr>\n",
       "    <tr>\n",
       "      <th>1662</th>\n",
       "      <td>340.931638</td>\n",
       "      <td>926.0</td>\n",
       "      <td>[926]</td>\n",
       "      <td>[1601, 1513, 187, 817, 17, 1598, 341, 1468, 44...</td>\n",
       "    </tr>\n",
       "    <tr>\n",
       "      <th>1663</th>\n",
       "      <td>340.931638</td>\n",
       "      <td>287.0</td>\n",
       "      <td>[287]</td>\n",
       "      <td>[834, 864, 857, 906, 341, 1421, 1099, 528, 176...</td>\n",
       "    </tr>\n",
       "    <tr>\n",
       "      <th>1664</th>\n",
       "      <td>340.931638</td>\n",
       "      <td>1477.0</td>\n",
       "      <td>[1648, 1425, 1358]</td>\n",
       "      <td>[864, 1502, 848, 35, 857, 1728, 176, 1517, 187...</td>\n",
       "    </tr>\n",
       "  </tbody>\n",
       "</table>\n",
       "<p>1665 rows × 4 columns</p>\n",
       "</div>"
      ],
      "text/plain": [
       "      overall_average_rank  average_rank               ranks  \\\n",
       "0               340.931638         524.0               [524]   \n",
       "1               340.931638         131.0               [131]   \n",
       "2               340.931638           4.0                 [4]   \n",
       "3               340.931638          40.5            [61, 20]   \n",
       "4               340.931638         423.0               [423]   \n",
       "...                    ...           ...                 ...   \n",
       "1660            340.931638          57.5    [152, 1, 19, 58]   \n",
       "1661            340.931638         153.0               [153]   \n",
       "1662            340.931638         926.0               [926]   \n",
       "1663            340.931638         287.0               [287]   \n",
       "1664            340.931638        1477.0  [1648, 1425, 1358]   \n",
       "\n",
       "                                              positions  \n",
       "0     [1225, 176, 1601, 131, 1439, 1655, 1056, 322, ...  \n",
       "1     [35, 1059, 859, 864, 187, 1875, 34, 888, 816, ...  \n",
       "2     [864, 48, 857, 932, 1507, 1045, 367, 263, 863,...  \n",
       "3     [816, 364, 876, 456, 44, 1613, 263, 1595, 1589...  \n",
       "4     [1613, 1278, 887, 1773, 841, 364, 1581, 1730, ...  \n",
       "...                                                 ...  \n",
       "1660  [352, 23, 1689, 112, 1568, 1429, 249, 1600, 12...  \n",
       "1661  [1174, 1898, 413, 1507, 137, 835, 1811, 12, 33...  \n",
       "1662  [1601, 1513, 187, 817, 17, 1598, 341, 1468, 44...  \n",
       "1663  [834, 864, 857, 906, 341, 1421, 1099, 528, 176...  \n",
       "1664  [864, 1502, 848, 35, 857, 1728, 176, 1517, 187...  \n",
       "\n",
       "[1665 rows x 4 columns]"
      ]
     },
     "execution_count": 47,
     "metadata": {},
     "output_type": "execute_result"
    }
   ],
   "source": [
    "# Exploded benchmark\n",
    "results_exploded = run_exploded_benchmark()\n",
    "results_exploded.to_csv(RESULT_FOLDER + f\"/{model_name}_exploded.csv\", index=False)\n",
    "results_exploded"
   ]
  },
  {
   "cell_type": "code",
   "execution_count": null,
   "id": "0e8383db",
   "metadata": {},
   "outputs": [
    {
     "data": {
      "text/plain": [
       "count    1665.000000\n",
       "mean      288.645646\n",
       "std       398.543299\n",
       "min         1.000000\n",
       "25%        14.000000\n",
       "50%       103.000000\n",
       "75%       400.000000\n",
       "max      1882.000000\n",
       "Name: min_rank, dtype: float64"
      ]
     },
     "execution_count": 48,
     "metadata": {},
     "output_type": "execute_result"
    },
    {
     "ename": "",
     "evalue": "",
     "output_type": "error",
     "traceback": [
      "\u001b[1;31mThe Kernel crashed while executing code in the current cell or a previous cell. \n",
      "\u001b[1;31mPlease review the code in the cell(s) to identify a possible cause of the failure. \n",
      "\u001b[1;31mClick <a href='https://aka.ms/vscodeJupyterKernelCrash'>here</a> for more info. \n",
      "\u001b[1;31mView Jupyter <a href='command:jupyter.viewOutput'>log</a> for further details."
     ]
    }
   ],
   "source": [
    "results_exploded[\"min_rank\"] = results_exploded[\"ranks\"].apply(lambda x: min(x))\n",
    "results_exploded[\"min_rank\"].describe()"
   ]
  }
 ],
 "metadata": {
  "accelerator": "GPU",
  "colab": {
   "gpuType": "A100",
   "provenance": []
  },
  "kernelspec": {
   "display_name": ".venv",
   "language": "python",
   "name": "python3"
  },
  "language_info": {
   "codemirror_mode": {
    "name": "ipython",
    "version": 3
   },
   "file_extension": ".py",
   "mimetype": "text/x-python",
   "name": "python",
   "nbconvert_exporter": "python",
   "pygments_lexer": "ipython3",
   "version": "3.9.0"
  }
 },
 "nbformat": 4,
 "nbformat_minor": 5
}
