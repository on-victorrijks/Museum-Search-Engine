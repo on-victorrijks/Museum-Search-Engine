{
 "cells": [
  {
   "cell_type": "code",
   "execution_count": 1,
   "metadata": {},
   "outputs": [],
   "source": [
    "from transformers import MarianMTModel, MarianTokenizer\n",
    "import pandas as pd\n",
    "from tqdm import tqdm\n",
    "from dotenv import load_dotenv \n",
    "import os\n",
    "import torch"
   ]
  },
  {
   "cell_type": "code",
   "execution_count": 2,
   "metadata": {},
   "outputs": [],
   "source": [
    "# loading variables from .env file\n",
    "load_dotenv(\"../../private_data/.env\") \n",
    "\n",
    "# PARENT gets us to the root of the project\n",
    "PARENT = \"./../../\"\n",
    "\n",
    "OUTPUT_MOONDREAM_CAPTIONS = PARENT + os.getenv(\"OUTPUT_MOONDREAM_CAPTIONS\")"
   ]
  },
  {
   "cell_type": "code",
   "execution_count": 3,
   "metadata": {},
   "outputs": [
    {
     "data": {
      "text/html": [
       "<div>\n",
       "<style scoped>\n",
       "    .dataframe tbody tr th:only-of-type {\n",
       "        vertical-align: middle;\n",
       "    }\n",
       "\n",
       "    .dataframe tbody tr th {\n",
       "        vertical-align: top;\n",
       "    }\n",
       "\n",
       "    .dataframe thead th {\n",
       "        text-align: right;\n",
       "    }\n",
       "</style>\n",
       "<table border=\"1\" class=\"dataframe\">\n",
       "  <thead>\n",
       "    <tr style=\"text-align: right;\">\n",
       "      <th></th>\n",
       "      <th>recordID</th>\n",
       "      <th>task</th>\n",
       "      <th>EN</th>\n",
       "      <th>FR</th>\n",
       "      <th>NL</th>\n",
       "    </tr>\n",
       "  </thead>\n",
       "  <tbody>\n",
       "    <tr>\n",
       "      <th>0</th>\n",
       "      <td>64</td>\n",
       "      <td>caption</td>\n",
       "      <td>A religious scene features a central figure o...</td>\n",
       "      <td>NaN</td>\n",
       "      <td>NaN</td>\n",
       "    </tr>\n",
       "    <tr>\n",
       "      <th>1</th>\n",
       "      <td>64</td>\n",
       "      <td>What objects do you see ?</td>\n",
       "      <td>In the image, there are two people on a cross...</td>\n",
       "      <td>NaN</td>\n",
       "      <td>NaN</td>\n",
       "    </tr>\n",
       "    <tr>\n",
       "      <th>2</th>\n",
       "      <td>64</td>\n",
       "      <td>What colors do you see ?</td>\n",
       "      <td>The image features a painting with a predomin...</td>\n",
       "      <td>NaN</td>\n",
       "      <td>NaN</td>\n",
       "    </tr>\n",
       "    <tr>\n",
       "      <th>3</th>\n",
       "      <td>64</td>\n",
       "      <td>Is this image bright or dark ?</td>\n",
       "      <td>The image is dark.</td>\n",
       "      <td>NaN</td>\n",
       "      <td>NaN</td>\n",
       "    </tr>\n",
       "    <tr>\n",
       "      <th>4</th>\n",
       "      <td>64</td>\n",
       "      <td>What emotion do you feel when looking at this ...</td>\n",
       "      <td>When looking at this image, I feel a sense of...</td>\n",
       "      <td>NaN</td>\n",
       "      <td>NaN</td>\n",
       "    </tr>\n",
       "    <tr>\n",
       "      <th>...</th>\n",
       "      <td>...</td>\n",
       "      <td>...</td>\n",
       "      <td>...</td>\n",
       "      <td>...</td>\n",
       "      <td>...</td>\n",
       "    </tr>\n",
       "    <tr>\n",
       "      <th>455</th>\n",
       "      <td>324</td>\n",
       "      <td>caption</td>\n",
       "      <td>A nude woman in a blue and white dress, with ...</td>\n",
       "      <td>NaN</td>\n",
       "      <td>NaN</td>\n",
       "    </tr>\n",
       "    <tr>\n",
       "      <th>456</th>\n",
       "      <td>324</td>\n",
       "      <td>What objects do you see ?</td>\n",
       "      <td>In the image, there are several objects that ...</td>\n",
       "      <td>NaN</td>\n",
       "      <td>NaN</td>\n",
       "    </tr>\n",
       "    <tr>\n",
       "      <th>457</th>\n",
       "      <td>324</td>\n",
       "      <td>What colors do you see ?</td>\n",
       "      <td>The image features a painting with a woman an...</td>\n",
       "      <td>NaN</td>\n",
       "      <td>NaN</td>\n",
       "    </tr>\n",
       "    <tr>\n",
       "      <th>458</th>\n",
       "      <td>324</td>\n",
       "      <td>Is this image bright or dark ?</td>\n",
       "      <td>This image is dark.</td>\n",
       "      <td>NaN</td>\n",
       "      <td>NaN</td>\n",
       "    </tr>\n",
       "    <tr>\n",
       "      <th>459</th>\n",
       "      <td>324</td>\n",
       "      <td>What emotion do you feel when looking at this ...</td>\n",
       "      <td>When looking at this image, I feel a sense of...</td>\n",
       "      <td>NaN</td>\n",
       "      <td>NaN</td>\n",
       "    </tr>\n",
       "  </tbody>\n",
       "</table>\n",
       "<p>460 rows × 5 columns</p>\n",
       "</div>"
      ],
      "text/plain": [
       "     recordID                                               task  \\\n",
       "0          64                                            caption   \n",
       "1          64                          What objects do you see ?   \n",
       "2          64                           What colors do you see ?   \n",
       "3          64                     Is this image bright or dark ?   \n",
       "4          64  What emotion do you feel when looking at this ...   \n",
       "..        ...                                                ...   \n",
       "455       324                                            caption   \n",
       "456       324                          What objects do you see ?   \n",
       "457       324                           What colors do you see ?   \n",
       "458       324                     Is this image bright or dark ?   \n",
       "459       324  What emotion do you feel when looking at this ...   \n",
       "\n",
       "                                                    EN  FR  NL  \n",
       "0     A religious scene features a central figure o... NaN NaN  \n",
       "1     In the image, there are two people on a cross... NaN NaN  \n",
       "2     The image features a painting with a predomin... NaN NaN  \n",
       "3                                   The image is dark. NaN NaN  \n",
       "4     When looking at this image, I feel a sense of... NaN NaN  \n",
       "..                                                 ...  ..  ..  \n",
       "455   A nude woman in a blue and white dress, with ... NaN NaN  \n",
       "456   In the image, there are several objects that ... NaN NaN  \n",
       "457   The image features a painting with a woman an... NaN NaN  \n",
       "458                                This image is dark. NaN NaN  \n",
       "459   When looking at this image, I feel a sense of... NaN NaN  \n",
       "\n",
       "[460 rows x 5 columns]"
      ]
     },
     "execution_count": 3,
     "metadata": {},
     "output_type": "execute_result"
    }
   ],
   "source": [
    "captions = pd.read_csv(OUTPUT_MOONDREAM_CAPTIONS)\n",
    "captions"
   ]
  },
  {
   "cell_type": "code",
   "execution_count": 4,
   "metadata": {},
   "outputs": [
    {
     "data": {
      "text/plain": [
       "device(type='cuda')"
      ]
     },
     "execution_count": 4,
     "metadata": {},
     "output_type": "execute_result"
    }
   ],
   "source": [
    "device = torch.device(\"cuda\" if torch.cuda.is_available() else \"cpu\")\n",
    "device"
   ]
  },
  {
   "cell_type": "code",
   "execution_count": 5,
   "metadata": {},
   "outputs": [
    {
     "name": "stdout",
     "output_type": "stream",
     "text": [
      "Model name: Helsinki-NLP/opus-mt-en-fr\n"
     ]
    },
    {
     "name": "stderr",
     "output_type": "stream",
     "text": [
      "c:\\Users\\victo\\Documents\\Projects\\Master-Thesis\\.venv\\lib\\site-packages\\transformers\\models\\marian\\tokenization_marian.py:175: UserWarning: Recommended: pip install sacremoses.\n",
      "  warnings.warn(\"Recommended: pip install sacremoses.\")\n"
     ]
    }
   ],
   "source": [
    "source_lang = \"EN\"\n",
    "target_lang = \"FR\"\n",
    "\n",
    "if source_lang == \"EN\" and target_lang == \"FR\":\n",
    "    # Load the pre-trained model and tokenizer\n",
    "    model_name = \"Helsinki-NLP/opus-mt-en-fr\"\n",
    "elif source_lang == \"EN\" and target_lang == \"NL\":\n",
    "    model_name = \"Helsinki-NLP/opus-mt-en-nl\"\n",
    "\n",
    "print(f\"Model name: {model_name}\")\n",
    "tokenizer = MarianTokenizer.from_pretrained(model_name)\n",
    "model = MarianMTModel.from_pretrained(model_name).to(device)"
   ]
  },
  {
   "cell_type": "code",
   "execution_count": 6,
   "metadata": {},
   "outputs": [
    {
     "data": {
      "text/plain": [
       "device(type='cuda', index=0)"
      ]
     },
     "execution_count": 6,
     "metadata": {},
     "output_type": "execute_result"
    }
   ],
   "source": [
    "model.device"
   ]
  },
  {
   "cell_type": "code",
   "execution_count": 7,
   "metadata": {},
   "outputs": [
    {
     "data": {
      "text/plain": [
       "460"
      ]
     },
     "execution_count": 7,
     "metadata": {},
     "output_type": "execute_result"
    }
   ],
   "source": [
    "source = list(captions[source_lang])\n",
    "len(source)"
   ]
  },
  {
   "cell_type": "code",
   "execution_count": 29,
   "metadata": {},
   "outputs": [
    {
     "name": "stderr",
     "output_type": "stream",
     "text": [
      " 76%|███████▋  | 13/17 [08:52<02:36, 39.20s/it]"
     ]
    }
   ],
   "source": [
    "def translate_batch_to_french(texts, batch_size=8):\n",
    "    translated_texts = []\n",
    "    \n",
    "    for i in tqdm(range(0, len(texts), batch_size)):\n",
    "        batch = texts[i:i + batch_size]\n",
    "        inputs = tokenizer(batch, return_tensors=\"pt\", padding=True, truncation=True)\n",
    "        inputs = inputs.to(device)\n",
    "        \n",
    "        # Perform translation\n",
    "        translated = model.generate(**inputs)\n",
    "        \n",
    "        # Decode translations\n",
    "        translated_batch = [tokenizer.decode(t, skip_special_tokens=True) for t in translated]\n",
    "        translated_texts.extend(translated_batch)\n",
    "    \n",
    "    return translated_texts\n",
    "\n",
    "batch_size = 28\n",
    "translated_sentences = translate_batch_to_french(source, batch_size=batch_size)\n",
    "\n",
    "captions[target_lang] = translated_sentences\n",
    "captions.to_csv(OUTPUT_MOONDREAM_CAPTIONS, index=False)\n",
    "captions"
   ]
  }
 ],
 "metadata": {
  "kernelspec": {
   "display_name": ".venv",
   "language": "python",
   "name": "python3"
  },
  "language_info": {
   "codemirror_mode": {
    "name": "ipython",
    "version": 3
   },
   "file_extension": ".py",
   "mimetype": "text/x-python",
   "name": "python",
   "nbconvert_exporter": "python",
   "pygments_lexer": "ipython3",
   "version": "3.9.0"
  }
 },
 "nbformat": 4,
 "nbformat_minor": 2
}
