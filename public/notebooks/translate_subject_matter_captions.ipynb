{
 "cells": [
  {
   "cell_type": "code",
   "execution_count": null,
   "metadata": {},
   "outputs": [],
   "source": [
    "from transformers import MarianMTModel, MarianTokenizer\n",
    "import pandas as pd\n",
    "from tqdm import tqdm\n",
    "import os\n",
    "import torch\n",
    "from torch.utils.data import Dataset, DataLoader\n",
    "from tqdm import tqdm\n",
    "import json\n",
    "import numpy as np"
   ]
  },
  {
   "cell_type": "code",
   "execution_count": null,
   "metadata": {},
   "outputs": [],
   "source": [
    "from google.colab import drive\n",
    "drive.mount('/content/drive')"
   ]
  },
  {
   "cell_type": "code",
   "execution_count": null,
   "metadata": {},
   "outputs": [],
   "source": [
    "root = \"/content/drive/MyDrive/MASTER_THESIS/\"\n",
    "FR_CAPTIONS = root + \"subject_matter_captions_FR.csv\"\n",
    "subject_matter_captions_FR = pd.read_csv(FR_CAPTIONS)\n",
    "subject_matter_captions_FR.head(3)"
   ]
  },
  {
   "cell_type": "code",
   "execution_count": null,
   "metadata": {},
   "outputs": [],
   "source": [
    "device = torch.device(\"cuda\" if torch.cuda.is_available() else \"cpu\")\n",
    "device"
   ]
  },
  {
   "cell_type": "code",
   "execution_count": null,
   "metadata": {},
   "outputs": [],
   "source": [
    "class TranslationDataset(Dataset):\n",
    "    def __init__(self, source_texts):\n",
    "        self.source_texts = source_texts\n",
    "\n",
    "    def __len__(self):\n",
    "        return len(self.source_texts)\n",
    "\n",
    "    def __getitem__(self, idx):\n",
    "        return self.source_texts[idx]\n",
    "    \n",
    "def translate_batch(source_captions, model, tokenizer, device, batch_size=16):\n",
    "    dataset = TranslationDataset(source_captions)\n",
    "    dataloader = DataLoader(dataset, batch_size=batch_size, shuffle=False)\n",
    "\n",
    "    translated_texts = []\n",
    "\n",
    "    for i, batch in enumerate(tqdm(dataloader)):\n",
    "        inputs = tokenizer(batch, return_tensors=\"pt\", padding=True, truncation=True)\n",
    "        inputs = inputs.to(device)\n",
    "\n",
    "        # Perform translation\n",
    "        translated = model.generate(**inputs)\n",
    "\n",
    "        # Decode translations\n",
    "        translated_batch = [tokenizer.decode(t, skip_special_tokens=True) for t in translated]\n",
    "        translated_texts.extend(translated_batch)\n",
    "    \n",
    "    resulting_df = FR_CAPTIONS.copy()\n",
    "    resulting_df[\"caption\"] = translated_texts\n",
    "    resulting_df[\"length_tokenization\"] = np.nan\n",
    "    return resulting_df"
   ]
  },
  {
   "cell_type": "code",
   "execution_count": null,
   "metadata": {},
   "outputs": [],
   "source": [
    "model_fr_en = \"Helsinki-NLP/opus-mt-fr-en\"\n",
    "tokenizer_fr_en = MarianTokenizer.from_pretrained(model_fr_en)\n",
    "model_fr_en = MarianMTModel.from_pretrained(model_fr_en).to(device)\n",
    "\n",
    "# record_id\t    row_type\tcaption\t    number_of_tokens\n",
    "subject_matter_captions_EN = translate_batch(list(subject_matter_captions_FR[\"caption\"]), model_fr_en, tokenizer_fr_en, device, batch_size=100)\n",
    "subject_matter_captions_EN.to_csv(root + \"subject_matter_captions_EN.csv\", index=False)"
   ]
  },
  {
   "cell_type": "code",
   "execution_count": null,
   "metadata": {},
   "outputs": [],
   "source": [
    "model_en_nl = \"Helsinki-NLP/opus-mt-en-nl\" # We cannot translate from French to Dutch using opus\n",
    "tokenizer_en_nl = MarianTokenizer.from_pretrained(model_en_nl)\n",
    "model_en_nl = MarianMTModel.from_pretrained(model_en_nl).to(device)\n",
    "\n",
    "subject_matter_captions_NL = translate_batch(list(subject_matter_captions_EN[\"caption\"]), model_en_nl, tokenizer_en_nl, device, batch_size=100)\n",
    "subject_matter_captions_NL.to_csv(root + \"subject_matter_captions_NL.csv\", index=False)"
   ]
  }
 ],
 "metadata": {
  "kernelspec": {
   "display_name": ".venv",
   "language": "python",
   "name": "python3"
  },
  "language_info": {
   "name": "python",
   "version": "3.9.0"
  }
 },
 "nbformat": 4,
 "nbformat_minor": 2
}
