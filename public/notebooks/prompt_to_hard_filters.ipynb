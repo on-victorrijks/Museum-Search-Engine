{
 "cells": [
  {
   "cell_type": "code",
   "execution_count": 187,
   "metadata": {},
   "outputs": [],
   "source": [
    "import torch\n",
    "from torch import nn\n",
    "from torch.utils.data import DataLoader, Dataset\n",
    "from transformers import CamembertModel, CamembertTokenizer, AdamW\n",
    "import os\n",
    "from tqdm import tqdm\n",
    "from dotenv import load_dotenv\n",
    "import numpy as np\n",
    "import pandas as pd \n",
    "import random"
   ]
  },
  {
   "cell_type": "code",
   "execution_count": 188,
   "metadata": {},
   "outputs": [
    {
     "data": {
      "text/plain": [
       "device(type='cuda')"
      ]
     },
     "execution_count": 188,
     "metadata": {},
     "output_type": "execute_result"
    }
   ],
   "source": [
    "# Check if CUDA is available\n",
    "device = torch.device('cuda' if torch.cuda.is_available() else 'cpu')\n",
    "device"
   ]
  },
  {
   "cell_type": "code",
   "execution_count": 189,
   "metadata": {},
   "outputs": [],
   "source": [
    "# loading variables from .env file\n",
    "load_dotenv(\"../../private_data/.env\") \n",
    "\n",
    "# PARENT gets us to the root of the project\n",
    "PARENT = \"./../../\"\n",
    "\n",
    "FOLDER_TABLE = PARENT + os.getenv(\"FOLDER_TABLE\")\n",
    "FILE_FABRITIUS_DATA = PARENT + os.getenv(\"FILE_FABRITIUS_DATA\")\n",
    "FILE_FABRITIUS_DATA_FILTERED = PARENT + os.getenv(\"FILE_FABRITIUS_DATA_FILTERED\")\n",
    "FILE_FABRITIUS_DATA_FILTERED_DOWNLOADED = PARENT + os.getenv(\"FILE_FABRITIUS_DATA_FILTERED_DOWNLOADED\")\n",
    "FOLDER_FIGURES = PARENT + os.getenv(\"FOLDER_FIGURES\")\n",
    "IMAGES_FOLDER = PARENT + os.getenv(\"IMAGES_FOLDER\")\n",
    "RECORD_IDS_TESTING_SET = PARENT + os.getenv(\"RECORD_IDS_TESTING_SET\")\n",
    "RECORD_IDS_VALIDATION_SET = PARENT + os.getenv(\"RECORD_IDS_VALIDATION_SET\")\n",
    "RECORD_IDS_TRAINING_SET = PARENT + os.getenv(\"RECORD_IDS_TRAINING_SET\")"
   ]
  },
  {
   "cell_type": "code",
   "execution_count": 190,
   "metadata": {},
   "outputs": [
    {
     "data": {
      "text/html": [
       "<div>\n",
       "<style scoped>\n",
       "    .dataframe tbody tr th:only-of-type {\n",
       "        vertical-align: middle;\n",
       "    }\n",
       "\n",
       "    .dataframe tbody tr th {\n",
       "        vertical-align: top;\n",
       "    }\n",
       "\n",
       "    .dataframe thead th {\n",
       "        text-align: right;\n",
       "    }\n",
       "</style>\n",
       "<table border=\"1\" class=\"dataframe\">\n",
       "  <thead>\n",
       "    <tr style=\"text-align: right;\">\n",
       "      <th></th>\n",
       "      <th>recordID</th>\n",
       "      <th>question</th>\n",
       "      <th>caption_EN</th>\n",
       "      <th>caption_FR</th>\n",
       "    </tr>\n",
       "  </thead>\n",
       "  <tbody>\n",
       "    <tr>\n",
       "      <th>0</th>\n",
       "      <td>3959</td>\n",
       "      <td>caption</td>\n",
       "      <td>A white vase with green leaves sits on a wood...</td>\n",
       "      <td>Un vase blanc aux feuilles vertes se trouve su...</td>\n",
       "    </tr>\n",
       "    <tr>\n",
       "      <th>1</th>\n",
       "      <td>3959</td>\n",
       "      <td>What is a short caption for this image where y...</td>\n",
       "      <td>A white vase with green leaves sits on a dark...</td>\n",
       "      <td>Un vase blanc aux feuilles vertes se trouve su...</td>\n",
       "    </tr>\n",
       "    <tr>\n",
       "      <th>2</th>\n",
       "      <td>3959</td>\n",
       "      <td>What is a short caption for this image where y...</td>\n",
       "      <td>A white vase with green leaves sits on a dark...</td>\n",
       "      <td>Un vase blanc aux feuilles vertes se trouve su...</td>\n",
       "    </tr>\n",
       "    <tr>\n",
       "      <th>3</th>\n",
       "      <td>3959</td>\n",
       "      <td>What is a short caption for this image where y...</td>\n",
       "      <td>A white vase with green leaves sits on a dark...</td>\n",
       "      <td>Un vase blanc aux feuilles vertes se trouve su...</td>\n",
       "    </tr>\n",
       "    <tr>\n",
       "      <th>4</th>\n",
       "      <td>3959</td>\n",
       "      <td>What is a short caption for this image where y...</td>\n",
       "      <td>A white vase with green leaves sits on a dark...</td>\n",
       "      <td>Un vase blanc aux feuilles vertes se trouve su...</td>\n",
       "    </tr>\n",
       "    <tr>\n",
       "      <th>...</th>\n",
       "      <td>...</td>\n",
       "      <td>...</td>\n",
       "      <td>...</td>\n",
       "      <td>...</td>\n",
       "    </tr>\n",
       "    <tr>\n",
       "      <th>12160</th>\n",
       "      <td>5498</td>\n",
       "      <td>caption</td>\n",
       "      <td>A man in a blue robe lies on the ground, whil...</td>\n",
       "      <td>Un homme en robe bleue se trouve sur le sol, t...</td>\n",
       "    </tr>\n",
       "    <tr>\n",
       "      <th>12161</th>\n",
       "      <td>5498</td>\n",
       "      <td>What is a short caption for this image where y...</td>\n",
       "      <td>A man in a blue robe lies on the ground, whil...</td>\n",
       "      <td>Un homme en robe bleue se trouve sur le sol, t...</td>\n",
       "    </tr>\n",
       "    <tr>\n",
       "      <th>12162</th>\n",
       "      <td>5498</td>\n",
       "      <td>What is a short caption for this image where y...</td>\n",
       "      <td>A man in a blue robe lies on the ground, whil...</td>\n",
       "      <td>Un homme en robe bleue se trouve sur le sol, t...</td>\n",
       "    </tr>\n",
       "    <tr>\n",
       "      <th>12163</th>\n",
       "      <td>5498</td>\n",
       "      <td>What is a short caption for this image where y...</td>\n",
       "      <td>A man in a blue robe sits on a rock, illumina...</td>\n",
       "      <td>Un homme en robe bleue est assis sur un rocher...</td>\n",
       "    </tr>\n",
       "    <tr>\n",
       "      <th>12164</th>\n",
       "      <td>5498</td>\n",
       "      <td>What is a short caption for this image where y...</td>\n",
       "      <td>A man in a blue robe lies on the ground, whil...</td>\n",
       "      <td>Un homme en robe bleue se trouve sur le sol, t...</td>\n",
       "    </tr>\n",
       "  </tbody>\n",
       "</table>\n",
       "<p>12165 rows × 4 columns</p>\n",
       "</div>"
      ],
      "text/plain": [
       "       recordID                                           question  \\\n",
       "0          3959                                            caption   \n",
       "1          3959  What is a short caption for this image where y...   \n",
       "2          3959  What is a short caption for this image where y...   \n",
       "3          3959  What is a short caption for this image where y...   \n",
       "4          3959  What is a short caption for this image where y...   \n",
       "...         ...                                                ...   \n",
       "12160      5498                                            caption   \n",
       "12161      5498  What is a short caption for this image where y...   \n",
       "12162      5498  What is a short caption for this image where y...   \n",
       "12163      5498  What is a short caption for this image where y...   \n",
       "12164      5498  What is a short caption for this image where y...   \n",
       "\n",
       "                                              caption_EN  \\\n",
       "0       A white vase with green leaves sits on a wood...   \n",
       "1       A white vase with green leaves sits on a dark...   \n",
       "2       A white vase with green leaves sits on a dark...   \n",
       "3       A white vase with green leaves sits on a dark...   \n",
       "4       A white vase with green leaves sits on a dark...   \n",
       "...                                                  ...   \n",
       "12160   A man in a blue robe lies on the ground, whil...   \n",
       "12161   A man in a blue robe lies on the ground, whil...   \n",
       "12162   A man in a blue robe lies on the ground, whil...   \n",
       "12163   A man in a blue robe sits on a rock, illumina...   \n",
       "12164   A man in a blue robe lies on the ground, whil...   \n",
       "\n",
       "                                              caption_FR  \n",
       "0      Un vase blanc aux feuilles vertes se trouve su...  \n",
       "1      Un vase blanc aux feuilles vertes se trouve su...  \n",
       "2      Un vase blanc aux feuilles vertes se trouve su...  \n",
       "3      Un vase blanc aux feuilles vertes se trouve su...  \n",
       "4      Un vase blanc aux feuilles vertes se trouve su...  \n",
       "...                                                  ...  \n",
       "12160  Un homme en robe bleue se trouve sur le sol, t...  \n",
       "12161  Un homme en robe bleue se trouve sur le sol, t...  \n",
       "12162  Un homme en robe bleue se trouve sur le sol, t...  \n",
       "12163  Un homme en robe bleue est assis sur un rocher...  \n",
       "12164  Un homme en robe bleue se trouve sur le sol, t...  \n",
       "\n",
       "[12165 rows x 4 columns]"
      ]
     },
     "execution_count": 190,
     "metadata": {},
     "output_type": "execute_result"
    }
   ],
   "source": [
    "generated_captions = pd.read_csv(\"../CSV/subset_generated_captions.csv\")\n",
    "generated_captions"
   ]
  },
  {
   "cell_type": "code",
   "execution_count": 191,
   "metadata": {},
   "outputs": [],
   "source": [
    "# Define your custom dataset\n",
    "class HardFilterDataset(Dataset):\n",
    "    def __init__(self, texts, labels, tokenizer, max_length=128):\n",
    "        \"\"\"\n",
    "        texts: List of French texts.\n",
    "        labels: List of label lists. For example, if you have 4 hard filters,\n",
    "                each label might be a list of 4 binary values.\n",
    "        tokenizer: A pretrained tokenizer (e.g., CamembertTokenizer).\n",
    "        max_length: Maximum sequence length.\n",
    "        \"\"\"\n",
    "        self.texts = texts\n",
    "        self.labels = labels\n",
    "        self.tokenizer = tokenizer\n",
    "        self.max_length = max_length\n",
    "\n",
    "    def __len__(self):\n",
    "        return len(self.texts)\n",
    "\n",
    "    def __getitem__(self, idx):\n",
    "        text = self.texts[idx]\n",
    "        label = self.labels[idx]\n",
    "        encoding = self.tokenizer(\n",
    "            text,\n",
    "            truncation=True,\n",
    "            padding='max_length',\n",
    "            max_length=self.max_length,\n",
    "            return_tensors='pt'\n",
    "        )\n",
    "        # Squeeze the extra batch dimension\n",
    "        item = {key: encoding[key].squeeze(0) for key in encoding}\n",
    "        item['labels'] = torch.tensor(label, dtype=torch.float)\n",
    "        return item"
   ]
  },
  {
   "cell_type": "code",
   "execution_count": 192,
   "metadata": {},
   "outputs": [],
   "source": [
    "# Load Camembert tokenizer\n",
    "tokenizer = CamembertTokenizer.from_pretrained('camembert-base')"
   ]
  },
  {
   "cell_type": "code",
   "execution_count": 193,
   "metadata": {},
   "outputs": [
    {
     "data": {
      "text/plain": [
       "('19ème siècle', array([0., 1., 0., 0., 0., 0., 0.]))"
      ]
     },
     "execution_count": 193,
     "metadata": {},
     "output_type": "execute_result"
    }
   ],
   "source": [
    "HARD_FILTERS = [\n",
    "    {\n",
    "        \"type\": \"CENTURY\",\n",
    "        \"content\": [1701, 1800]\n",
    "    },\n",
    "    {\n",
    "        \"type\": \"CENTURY\",\n",
    "        \"content\": [1801, 1900]\n",
    "    },\n",
    "    {\n",
    "        \"type\": \"CENTURY\",\n",
    "        \"content\": [1901, 2000]\n",
    "    },\n",
    "    {\n",
    "        \"type\": \"CENTURY\",\n",
    "        \"content\": [2001, 2100]\n",
    "    },\n",
    "    {\n",
    "        \"type\": \"CANVAS_TYPE\",\n",
    "        \"content\": \"peinture\"\n",
    "    },\n",
    "    {\n",
    "        \"type\": \"CANVAS_TYPE\",\n",
    "        \"content\": \"sculpture\"\n",
    "    },\n",
    "    {\n",
    "        \"type\": \"CANVAS_TYPE\",\n",
    "        \"content\": \"dessin\"\n",
    "    }\n",
    "]\n",
    "\n",
    "def generate_synthetic_date():\n",
    "    # Get a random caption\n",
    "    caption = generated_captions.sample().iloc[0][\"caption_FR\"]\n",
    "\n",
    "    hasAdd = random.choice([True, False])\n",
    "    if not hasAdd:\n",
    "        return caption, np.zeros(len(HARD_FILTERS))\n",
    "    \n",
    "    FILTER_INDEX = np.random.randint(0, len(HARD_FILTERS))\n",
    "    FILTER = HARD_FILTERS[FILTER_INDEX]\n",
    "\n",
    "    # Add the filter\n",
    "    if FILTER[\"type\"] == \"CENTURY\":\n",
    "\n",
    "        methods = [0,1]\n",
    "        method = np.random.choice(methods)\n",
    "        start, end = FILTER[\"content\"]\n",
    "        add = None\n",
    "\n",
    "        if method == 0:\n",
    "            # \"18ème siècle\"\n",
    "            if start == 1701:\n",
    "                add = \"18ème siècle\"\n",
    "            elif start == 1801:\n",
    "                add = \"19ème siècle\"\n",
    "            elif start == 1901:\n",
    "                add = \"20ème siècle\"\n",
    "            elif start == 2001:\n",
    "                add = \"21ème siècle\"\n",
    "        elif method == 1:\n",
    "            # \"1765\"\n",
    "            year = np.random.randint(start, end)\n",
    "            add = str(year)\n",
    "\n",
    "        caption += \" \" + add\n",
    "    elif FILTER[\"type\"] == \"CANVAS_TYPE\":\n",
    "        add = FILTER[\"content\"]\n",
    "\n",
    "    FILTER_ARRAY = np.zeros(len(HARD_FILTERS))\n",
    "    FILTER_ARRAY[FILTER_INDEX] = 1\n",
    "    return add, FILTER_ARRAY\n",
    "\n",
    "generate_synthetic_date()"
   ]
  },
  {
   "cell_type": "code",
   "execution_count": 194,
   "metadata": {},
   "outputs": [],
   "source": [
    "def generate_N_synthetic_dates(N):\n",
    "    captions = []\n",
    "    GT = []\n",
    "    for _ in tqdm(range(N)):\n",
    "        caption, filter_array = generate_synthetic_date()\n",
    "        captions.append(caption)\n",
    "        GT.append(filter_array)\n",
    "    return captions, GT"
   ]
  },
  {
   "cell_type": "code",
   "execution_count": 195,
   "metadata": {},
   "outputs": [
    {
     "name": "stderr",
     "output_type": "stream",
     "text": [
      "100%|██████████| 50000/50000 [00:17<00:00, 2823.82it/s]\n"
     ]
    }
   ],
   "source": [
    "N = 50000\n",
    "texts, labels = generate_N_synthetic_dates(N)"
   ]
  },
  {
   "cell_type": "code",
   "execution_count": 196,
   "metadata": {},
   "outputs": [
    {
     "name": "stdout",
     "output_type": "stream",
     "text": [
      "Encoder dimension: 768\n"
     ]
    }
   ],
   "source": [
    "encoder = CamembertModel.from_pretrained('camembert-base')\n",
    "# Put the encoder on the same device as the data\n",
    "encoder.to(device)\n",
    "dimension_encoder = encoder.config.hidden_size\n",
    "print(f\"Encoder dimension: {dimension_encoder}\")"
   ]
  },
  {
   "cell_type": "code",
   "execution_count": 197,
   "metadata": {},
   "outputs": [],
   "source": [
    "def encode(dataloader):\n",
    "    # Store the sentence embeddings in this list\n",
    "    embeddings = []\n",
    "    # Store the labels in this list\n",
    "    labels = []\n",
    "\n",
    "    # No need to compute gradients\n",
    "    with torch.no_grad():\n",
    "        for batch in tqdm(dataloader):\n",
    "            input_ids = batch['input_ids'].to(device)\n",
    "            attention_mask = batch['attention_mask'].to(device)\n",
    "            # Get the sentence embeddings\n",
    "            outputs = encoder(input_ids=input_ids, attention_mask=attention_mask)\n",
    "            # Use the representation of the first token (<s>) as the sentence embedding.\n",
    "            pooled_output = outputs.last_hidden_state[:, 0, :]\n",
    "            embeddings.append(pooled_output.cpu().numpy())\n",
    "            labels.append(batch['labels'].cpu().numpy())\n",
    "\n",
    "    # Concatenate the results to get a single numpy array\n",
    "    embeddings = np.concatenate(embeddings, axis=0)\n",
    "    labels = np.concatenate(labels, axis=0)\n",
    "\n",
    "    return embeddings, labels"
   ]
  },
  {
   "cell_type": "code",
   "execution_count": 198,
   "metadata": {},
   "outputs": [
    {
     "name": "stderr",
     "output_type": "stream",
     "text": [
      "100%|██████████| 391/391 [01:39<00:00,  3.94it/s]\n"
     ]
    },
    {
     "name": "stdout",
     "output_type": "stream",
     "text": [
      "(50000, 768) (50000, 7)\n"
     ]
    }
   ],
   "source": [
    "# Create dataset and dataloader\n",
    "dataset_text = HardFilterDataset(texts, labels, tokenizer, max_length=77)\n",
    "dataloader_text = DataLoader(dataset_text, batch_size=128, shuffle=True)\n",
    "# Encode the text\n",
    "embeddings, labels = encode(dataloader_text)\n",
    "print(embeddings.shape, labels.shape)"
   ]
  },
  {
   "cell_type": "code",
   "execution_count": 199,
   "metadata": {},
   "outputs": [
    {
     "name": "stdout",
     "output_type": "stream",
     "text": [
      "Training set size: 40000\n",
      "Testing set size: 10000\n"
     ]
    }
   ],
   "source": [
    "# Create training and testing sets\n",
    "N = len(embeddings)\n",
    "N_train = int(0.8 * N)\n",
    "N_test = N - N_train\n",
    "indices = np.random.permutation(N)\n",
    "indices_train = indices[:N_train]\n",
    "indices_test = indices[N_train:]\n",
    "X_train = embeddings[indices_train]\n",
    "y_train = labels[indices_train]\n",
    "X_test = embeddings[indices_test]\n",
    "y_test = labels[indices_test]\n",
    "\n",
    "print(f\"Training set size: {N_train}\")\n",
    "print(f\"Testing set size: {N_test}\")"
   ]
  },
  {
   "cell_type": "code",
   "execution_count": 200,
   "metadata": {},
   "outputs": [
    {
     "name": "stdout",
     "output_type": "stream",
     "text": [
      "Training set size: 40000\n",
      "Testing set size: 10000\n"
     ]
    }
   ],
   "source": [
    "# Create dataset and dataloader\n",
    "class EmbeddingsDataset(Dataset):\n",
    "    def __init__(self, embeddings, labels):\n",
    "        self.embeddings = embeddings\n",
    "        self.labels = labels\n",
    "    \n",
    "    def __len__(self):\n",
    "        return len(self.embeddings)\n",
    "\n",
    "    def __getitem__(self, idx):\n",
    "        return self.embeddings[idx], self.labels[idx]\n",
    "    \n",
    "dataset_embeddings_training = EmbeddingsDataset(X_train, y_train)\n",
    "dataloader_embeddings_training = DataLoader(dataset_embeddings_training, batch_size=128, shuffle=True)\n",
    "\n",
    "dataset_embeddings_testing = EmbeddingsDataset(X_test, y_test)\n",
    "dataloader_embeddings_testing = DataLoader(dataset_embeddings_testing, batch_size=128, shuffle=False)\n",
    "\n",
    "print(f\"Training set size: {len(dataset_embeddings_training)}\")\n",
    "print(f\"Testing set size: {len(dataset_embeddings_testing)}\")"
   ]
  },
  {
   "cell_type": "code",
   "execution_count": 201,
   "metadata": {},
   "outputs": [],
   "source": [
    "# Create the model\n",
    "class HardFilterClassifier(nn.Module):\n",
    "    def __init__(self, num_labels):\n",
    "        \"\"\"\n",
    "        num_labels: Number of hard filters.\n",
    "        \"\"\"\n",
    "        super(HardFilterClassifier, self).__init__()\n",
    "        self.l1 = nn.Linear(dimension_encoder, dimension_encoder//2)\n",
    "        self.l2 = nn.Linear(dimension_encoder//2, num_labels)\n",
    "\n",
    "    def forward(self, embeddings):\n",
    "        x = self.l1(embeddings)\n",
    "        x = nn.ReLU()(x)\n",
    "        x = self.l2(x)\n",
    "        return nn.Sigmoid()(x)"
   ]
  },
  {
   "cell_type": "code",
   "execution_count": 202,
   "metadata": {},
   "outputs": [
    {
     "data": {
      "text/plain": [
       "HardFilterClassifier(\n",
       "  (l1): Linear(in_features=768, out_features=384, bias=True)\n",
       "  (l2): Linear(in_features=384, out_features=7, bias=True)\n",
       ")"
      ]
     },
     "execution_count": 202,
     "metadata": {},
     "output_type": "execute_result"
    }
   ],
   "source": [
    "# Initialize the classifier: here we assume 4 hard filters.\n",
    "num_filters = len(HARD_FILTERS)\n",
    "model = HardFilterClassifier(num_labels=num_filters)\n",
    "# Put on the device\n",
    "model.to(device)\n",
    "model"
   ]
  },
  {
   "cell_type": "code",
   "execution_count": 203,
   "metadata": {},
   "outputs": [
    {
     "name": "stderr",
     "output_type": "stream",
     "text": [
      "Epoch 100, loss: 0.8233: 100%|██████████| 100/100 [01:29<00:00,  1.12it/s]\n"
     ]
    },
    {
     "data": {
      "image/png": "[encoded data removed]",
      "text/plain": [
       "<Figure size 640x480 with 1 Axes>"
      ]
     },
     "metadata": {},
     "output_type": "display_data"
    }
   ],
   "source": [
    "# Use ADAM\n",
    "import torch.optim as optim\n",
    "optimizer = optim.AdamW(model.parameters(), lr=1e-3)\n",
    "\n",
    "class DiceLoss(nn.Module):\n",
    "    def __init__(self, smooth=1):\n",
    "        super(DiceLoss, self).__init__()\n",
    "        self.smooth = smooth\n",
    "\n",
    "    def forward(self, preds, targets):\n",
    "        preds = torch.sigmoid(preds)  # Apply sigmoid for probability\n",
    "        intersection = (preds * targets).sum()\n",
    "        dice = (2. * intersection + self.smooth) / (preds.sum() + targets.sum() + self.smooth)\n",
    "        return 1 - dice  # Minimize loss\n",
    "\n",
    "loss_fn = DiceLoss()\n",
    "\n",
    "losses = []\n",
    "\n",
    "\n",
    "# Training loop (basic example)\n",
    "model.train()\n",
    "num_epochs = 100\n",
    "tqdm_bar = tqdm(range(num_epochs))\n",
    "for epoch in tqdm_bar:\n",
    "    epoch_loss = 0.0\n",
    "    for batchIndex, batch in enumerate(dataloader_embeddings_training):\n",
    "        b_embeddings, b_labels = batch\n",
    "        b_embeddings = b_embeddings.to(device)\n",
    "        b_labels = b_labels.to(device)\n",
    "        # Zero the gradients\n",
    "        optimizer.zero_grad()\n",
    "        # Get predictions\n",
    "        predictions = model(b_embeddings)\n",
    "        # Compute the loss\n",
    "        loss = loss_fn(predictions, b_labels)\n",
    "        # Backpropagate\n",
    "        loss.backward()\n",
    "        # Optimize\n",
    "        optimizer.step()\n",
    "        epoch_loss += loss.item()\n",
    "\n",
    "    # Change the description of the tqdm bar\n",
    "    epoch_loss = float(epoch_loss)/len(dataloader_embeddings_training)\n",
    "    tqdm_bar.set_description(f\"Epoch {epoch+1}, loss: {epoch_loss:.4f}\")\n",
    "    losses.append(epoch_loss)\n",
    "\n",
    "# Plot the loss\n",
    "import matplotlib.pyplot as plt\n",
    "\n",
    "plt.plot(losses)\n",
    "plt.xlabel(\"Epoch\")\n",
    "plt.ylabel(\"Loss\")\n",
    "plt.title(\"Training loss\")\n",
    "plt.show()"
   ]
  },
  {
   "cell_type": "code",
   "execution_count": 206,
   "metadata": {},
   "outputs": [
    {
     "name": "stdout",
     "output_type": "stream",
     "text": [
      "Train accuracy: 0.9646, precision: 0.6689, recall: 1.0000\n",
      "Test accuracy: 0.9651, precision: 0.6684, recall: 1.0000\n"
     ]
    }
   ],
   "source": [
    "def evaluate(model, dataloader, threshold=0.25):\n",
    "    # Measure the precision and recall\n",
    "    TP, FP, TN, FN = 0, 0, 0, 0\n",
    "    # No need to compute gradients\n",
    "    with torch.no_grad():\n",
    "        for batch in dataloader:\n",
    "            embeddings, labels = batch\n",
    "            embeddings = embeddings.to(device)\n",
    "            labels = labels.to(device)\n",
    "            # Get predictions\n",
    "            predictions = model(embeddings)\n",
    "            # Apply threshold\n",
    "            predictions = (predictions > threshold).float()\n",
    "            # Compute the confusion matrix\n",
    "            TP += ((predictions == 1) & (labels == 1)).sum().item()\n",
    "            FP += ((predictions == 1) & (labels == 0)).sum().item()\n",
    "            TN += ((predictions == 0) & (labels == 0)).sum().item()\n",
    "            FN += ((predictions == 0) & (labels == 1)).sum().item()\n",
    "\n",
    "    accuracy = (TP + TN) / (TP + TN + FP + FN)\n",
    "    precision = TP / (TP + FP) if TP + FP > 0 else 0\n",
    "    recall = TP / (TP + FN) if TP + FN > 0 else 0\n",
    "    \n",
    "    return accuracy, precision, recall\n",
    "\n",
    "# Evaluate the model\n",
    "model.eval()\n",
    "train_accuracy, train_precision, train_recall = evaluate(model, dataloader_embeddings_training)\n",
    "test_accuracy, test_precision, test_recall = evaluate(model, dataloader_embeddings_testing)\n",
    "\n",
    "print(f\"Train accuracy: {train_accuracy:.4f}, precision: {train_precision:.4f}, recall: {train_recall:.4f}\")\n",
    "print(f\"Test accuracy: {test_accuracy:.4f}, precision: {test_precision:.4f}, recall: {test_recall:.4f}\")"
   ]
  },
  {
   "cell_type": "code",
   "execution_count": 207,
   "metadata": {},
   "outputs": [
    {
     "name": "stdout",
     "output_type": "stream",
     "text": [
      "CENTURY [1701, 1800]: 0.0000\n",
      "CENTURY [1801, 1900]: 0.0000\n",
      "CENTURY [1901, 2000]: 0.0000\n",
      "CENTURY [2001, 2100]: 0.0000\n",
      "CANVAS_TYPE peinture: 0.0008\n",
      "CANVAS_TYPE sculpture: 0.0000\n",
      "CANVAS_TYPE dessin: 0.0000\n"
     ]
    }
   ],
   "source": [
    "def infer(text):\n",
    "    # Encode the text\n",
    "    encoding = tokenizer(\n",
    "        text,\n",
    "        truncation=True,\n",
    "        padding='max_length',\n",
    "        max_length=77,\n",
    "        return_tensors='pt'\n",
    "    )\n",
    "\n",
    "    # Use the model\n",
    "    with torch.no_grad():\n",
    "        input_ids = encoding['input_ids'].to(device)\n",
    "        attention_mask = encoding['attention_mask'].to(device)\n",
    "        outputs = encoder(input_ids=input_ids, attention_mask=attention_mask)\n",
    "        pooled_output = outputs.last_hidden_state[:, 0, :]\n",
    "        predictions = model(pooled_output)\n",
    "\n",
    "    return predictions.cpu().numpy()\n",
    "\n",
    "# Test the inference\n",
    "text = \"Des peintures entre 1890 et 1910\"\n",
    "predictions = infer(text)\n",
    "\n",
    "# Print the predictions\n",
    "for i, prediction in enumerate(predictions[0]):\n",
    "    filter = HARD_FILTERS[i]\n",
    "    filterName = filter[\"type\"] + \" \" + str(filter[\"content\"])\n",
    "    print(f\"{filterName}: {prediction:.4f}\")"
   ]
  }
 ],
 "metadata": {
  "kernelspec": {
   "display_name": ".venv",
   "language": "python",
   "name": "python3"
  },
  "language_info": {
   "codemirror_mode": {
    "name": "ipython",
    "version": 3
   },
   "file_extension": ".py",
   "mimetype": "text/x-python",
   "name": "python",
   "nbconvert_exporter": "python",
   "pygments_lexer": "ipython3",
   "version": "3.9.0"
  }
 },
 "nbformat": 4,
 "nbformat_minor": 2
}
