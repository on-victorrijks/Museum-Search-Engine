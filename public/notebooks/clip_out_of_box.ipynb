{
 "cells": [
  {
   "cell_type": "code",
   "execution_count": 16,
   "metadata": {},
   "outputs": [],
   "source": [
    "import torch\n",
    "import numpy as np\n",
    "import matplotlib.pyplot as plt\n",
    "from tqdm import tqdm\n",
    "import random\n",
    "from torch.utils.data import Dataset, DataLoader\n",
    "from PIL import Image\n",
    "import os\n",
    "import json\n",
    "from dotenv import load_dotenv\n",
    "from transformers import CLIPProcessor, CLIPModel\n",
    "import psycopg2\n",
    "from torch.utils.data import DataLoader, Dataset\n",
    "from sklearn.metrics.pairwise import cosine_similarity\n",
    "import pandas as pd\n",
    "import transformers"
   ]
  },
  {
   "cell_type": "code",
   "execution_count": 3,
   "metadata": {},
   "outputs": [
    {
     "name": "stdout",
     "output_type": "stream",
     "text": [
      "cuda:0\n"
     ]
    }
   ],
   "source": [
    "device = torch.device(\"cuda:0\" if torch.cuda.is_available() else \"cpu\")\n",
    "print(device)"
   ]
  },
  {
   "cell_type": "code",
   "execution_count": 4,
   "metadata": {},
   "outputs": [],
   "source": [
    "# loading variables from .env file\n",
    "load_dotenv(\"../../private_data/.env\") \n",
    "\n",
    "# PARENT gets us to the root of the project\n",
    "PARENT = \"./../../\"\n",
    "\n",
    "FOLDER_TABLE = PARENT + os.getenv(\"FOLDER_TABLE\")\n",
    "FILE_FABRITIUS_DATA = PARENT + os.getenv(\"FILE_FABRITIUS_DATA\")\n",
    "FILE_FABRITIUS_DATA_FILTERED = PARENT + os.getenv(\"FILE_FABRITIUS_DATA_FILTERED\")\n",
    "FILE_FABRITIUS_DATA_FILTERED_DOWNLOADED = PARENT + os.getenv(\"FILE_FABRITIUS_DATA_FILTERED_DOWNLOADED\")\n",
    "FOLDER_FIGURES = PARENT + os.getenv(\"FOLDER_FIGURES\")\n",
    "IMAGES_FOLDER = PARENT + os.getenv(\"IMAGES_FOLDER\")\n",
    "\n",
    "DB_INPUT_ARTPIECES = PARENT + os.getenv(\"DB_INPUT_ARTPIECES\")\n",
    "DB_INPUT_ARTISTS = PARENT + os.getenv(\"DB_INPUT_ARTISTS\")\n",
    "DB_INPUT_SUBJECTMATTER = PARENT + os.getenv(\"DB_INPUT_SUBJECTMATTER\")\n",
    "\n",
    "FILE_SUBJECTMATTERS_PARSED = PARENT + os.getenv(\"FILE_SUBJECTMATTERS_PARSED\")"
   ]
  },
  {
   "cell_type": "code",
   "execution_count": null,
   "metadata": {},
   "outputs": [
    {
     "ename": "KeyError",
     "evalue": "'False: boolean label can not be used without a boolean index'",
     "output_type": "error",
     "traceback": [
      "\u001b[1;31m---------------------------------------------------------------------------\u001b[0m",
      "\u001b[1;31mKeyError\u001b[0m                                  Traceback (most recent call last)",
      "Cell \u001b[1;32mIn[40], line 3\u001b[0m\n\u001b[0;32m      1\u001b[0m \u001b[38;5;66;03m# Get the artworks data\u001b[39;00m\n\u001b[0;32m      2\u001b[0m ARTWORKS \u001b[38;5;241m=\u001b[39m pd\u001b[38;5;241m.\u001b[39mread_csv(DB_INPUT_ARTPIECES)\n\u001b[1;32m----> 3\u001b[0m \u001b[43mARTWORKS\u001b[49m\u001b[38;5;241;43m.\u001b[39;49m\u001b[43mloc\u001b[49m\u001b[43m[\u001b[49m\u001b[43mARTWORKS\u001b[49m\u001b[43m[\u001b[49m\u001b[38;5;124;43m\"\u001b[39;49m\u001b[38;5;124;43mcreatorID\u001b[39;49m\u001b[38;5;124;43m\"\u001b[39;49m\u001b[43m]\u001b[49m\u001b[43m \u001b[49m\u001b[38;5;129;43;01mis\u001b[39;49;00m\u001b[43m \u001b[49m\u001b[43mpd\u001b[49m\u001b[38;5;241;43m.\u001b[39;49m\u001b[43mNA\u001b[49m\u001b[43m]\u001b[49m\n",
      "File \u001b[1;32mc:\\Users\\victo\\Documents\\Projects\\Master-Thesis\\.venv\\lib\\site-packages\\pandas\\core\\indexing.py:1191\u001b[0m, in \u001b[0;36m_LocationIndexer.__getitem__\u001b[1;34m(self, key)\u001b[0m\n\u001b[0;32m   1189\u001b[0m maybe_callable \u001b[38;5;241m=\u001b[39m com\u001b[38;5;241m.\u001b[39mapply_if_callable(key, \u001b[38;5;28mself\u001b[39m\u001b[38;5;241m.\u001b[39mobj)\n\u001b[0;32m   1190\u001b[0m maybe_callable \u001b[38;5;241m=\u001b[39m \u001b[38;5;28mself\u001b[39m\u001b[38;5;241m.\u001b[39m_check_deprecated_callable_usage(key, maybe_callable)\n\u001b[1;32m-> 1191\u001b[0m \u001b[38;5;28;01mreturn\u001b[39;00m \u001b[38;5;28;43mself\u001b[39;49m\u001b[38;5;241;43m.\u001b[39;49m\u001b[43m_getitem_axis\u001b[49m\u001b[43m(\u001b[49m\u001b[43mmaybe_callable\u001b[49m\u001b[43m,\u001b[49m\u001b[43m \u001b[49m\u001b[43maxis\u001b[49m\u001b[38;5;241;43m=\u001b[39;49m\u001b[43maxis\u001b[49m\u001b[43m)\u001b[49m\n",
      "File \u001b[1;32mc:\\Users\\victo\\Documents\\Projects\\Master-Thesis\\.venv\\lib\\site-packages\\pandas\\core\\indexing.py:1430\u001b[0m, in \u001b[0;36m_LocIndexer._getitem_axis\u001b[1;34m(self, key, axis)\u001b[0m\n\u001b[0;32m   1427\u001b[0m         \u001b[38;5;28;01mreturn\u001b[39;00m \u001b[38;5;28mself\u001b[39m\u001b[38;5;241m.\u001b[39mobj\u001b[38;5;241m.\u001b[39miloc[\u001b[38;5;28mtuple\u001b[39m(indexer)]\n\u001b[0;32m   1429\u001b[0m \u001b[38;5;66;03m# fall thru to straight lookup\u001b[39;00m\n\u001b[1;32m-> 1430\u001b[0m \u001b[38;5;28;43mself\u001b[39;49m\u001b[38;5;241;43m.\u001b[39;49m\u001b[43m_validate_key\u001b[49m\u001b[43m(\u001b[49m\u001b[43mkey\u001b[49m\u001b[43m,\u001b[49m\u001b[43m \u001b[49m\u001b[43maxis\u001b[49m\u001b[43m)\u001b[49m\n\u001b[0;32m   1431\u001b[0m \u001b[38;5;28;01mreturn\u001b[39;00m \u001b[38;5;28mself\u001b[39m\u001b[38;5;241m.\u001b[39m_get_label(key, axis\u001b[38;5;241m=\u001b[39maxis)\n",
      "File \u001b[1;32mc:\\Users\\victo\\Documents\\Projects\\Master-Thesis\\.venv\\lib\\site-packages\\pandas\\core\\indexing.py:1239\u001b[0m, in \u001b[0;36m_LocIndexer._validate_key\u001b[1;34m(self, key, axis)\u001b[0m\n\u001b[0;32m   1232\u001b[0m ax \u001b[38;5;241m=\u001b[39m \u001b[38;5;28mself\u001b[39m\u001b[38;5;241m.\u001b[39mobj\u001b[38;5;241m.\u001b[39m_get_axis(axis)\n\u001b[0;32m   1233\u001b[0m \u001b[38;5;28;01mif\u001b[39;00m \u001b[38;5;28misinstance\u001b[39m(key, \u001b[38;5;28mbool\u001b[39m) \u001b[38;5;129;01mand\u001b[39;00m \u001b[38;5;129;01mnot\u001b[39;00m (\n\u001b[0;32m   1234\u001b[0m     is_bool_dtype(ax\u001b[38;5;241m.\u001b[39mdtype)\n\u001b[0;32m   1235\u001b[0m     \u001b[38;5;129;01mor\u001b[39;00m ax\u001b[38;5;241m.\u001b[39mdtype\u001b[38;5;241m.\u001b[39mname \u001b[38;5;241m==\u001b[39m \u001b[38;5;124m\"\u001b[39m\u001b[38;5;124mboolean\u001b[39m\u001b[38;5;124m\"\u001b[39m\n\u001b[0;32m   1236\u001b[0m     \u001b[38;5;129;01mor\u001b[39;00m \u001b[38;5;28misinstance\u001b[39m(ax, MultiIndex)\n\u001b[0;32m   1237\u001b[0m     \u001b[38;5;129;01mand\u001b[39;00m is_bool_dtype(ax\u001b[38;5;241m.\u001b[39mget_level_values(\u001b[38;5;241m0\u001b[39m)\u001b[38;5;241m.\u001b[39mdtype)\n\u001b[0;32m   1238\u001b[0m ):\n\u001b[1;32m-> 1239\u001b[0m     \u001b[38;5;28;01mraise\u001b[39;00m \u001b[38;5;167;01mKeyError\u001b[39;00m(\n\u001b[0;32m   1240\u001b[0m         \u001b[38;5;124mf\u001b[39m\u001b[38;5;124m\"\u001b[39m\u001b[38;5;132;01m{\u001b[39;00mkey\u001b[38;5;132;01m}\u001b[39;00m\u001b[38;5;124m: boolean label can not be used without a boolean index\u001b[39m\u001b[38;5;124m\"\u001b[39m\n\u001b[0;32m   1241\u001b[0m     )\n\u001b[0;32m   1243\u001b[0m \u001b[38;5;28;01mif\u001b[39;00m \u001b[38;5;28misinstance\u001b[39m(key, \u001b[38;5;28mslice\u001b[39m) \u001b[38;5;129;01mand\u001b[39;00m (\n\u001b[0;32m   1244\u001b[0m     \u001b[38;5;28misinstance\u001b[39m(key\u001b[38;5;241m.\u001b[39mstart, \u001b[38;5;28mbool\u001b[39m) \u001b[38;5;129;01mor\u001b[39;00m \u001b[38;5;28misinstance\u001b[39m(key\u001b[38;5;241m.\u001b[39mstop, \u001b[38;5;28mbool\u001b[39m)\n\u001b[0;32m   1245\u001b[0m ):\n\u001b[0;32m   1246\u001b[0m     \u001b[38;5;28;01mraise\u001b[39;00m \u001b[38;5;167;01mTypeError\u001b[39;00m(\u001b[38;5;124mf\u001b[39m\u001b[38;5;124m\"\u001b[39m\u001b[38;5;132;01m{\u001b[39;00mkey\u001b[38;5;132;01m}\u001b[39;00m\u001b[38;5;124m: boolean values can not be used in a slice\u001b[39m\u001b[38;5;124m\"\u001b[39m)\n",
      "\u001b[1;31mKeyError\u001b[0m: 'False: boolean label can not be used without a boolean index'"
     ]
    }
   ],
   "source": [
    "# Get the artworks data\n",
    "ARTWORKS = pd.read_csv(DB_INPUT_ARTPIECES)\n"
   ]
  },
  {
   "cell_type": "code",
   "execution_count": 25,
   "metadata": {},
   "outputs": [
    {
     "data": {
      "text/html": [
       "<div>\n",
       "<style scoped>\n",
       "    .dataframe tbody tr th:only-of-type {\n",
       "        vertical-align: middle;\n",
       "    }\n",
       "\n",
       "    .dataframe tbody tr th {\n",
       "        vertical-align: top;\n",
       "    }\n",
       "\n",
       "    .dataframe thead th {\n",
       "        text-align: right;\n",
       "    }\n",
       "</style>\n",
       "<table border=\"1\" class=\"dataframe\">\n",
       "  <thead>\n",
       "    <tr style=\"text-align: right;\">\n",
       "      <th></th>\n",
       "      <th>creatorID</th>\n",
       "      <th>creatorLastName</th>\n",
       "      <th>creatorFirstName</th>\n",
       "      <th>creatorBirthAndDeathDescription</th>\n",
       "      <th>creatorNationality</th>\n",
       "      <th>creatorDeathDate</th>\n",
       "      <th>creatorBirthDate</th>\n",
       "    </tr>\n",
       "  </thead>\n",
       "  <tbody>\n",
       "    <tr>\n",
       "      <th>0</th>\n",
       "      <td>Auth:509:309</td>\n",
       "      <td>Bouts</td>\n",
       "      <td>Dirk</td>\n",
       "      <td>Haarlem (Pays-Bas) vers 1410 ? - Louvain 1475</td>\n",
       "      <td>NaN</td>\n",
       "      <td>1475.0</td>\n",
       "      <td>1410.0</td>\n",
       "    </tr>\n",
       "  </tbody>\n",
       "</table>\n",
       "</div>"
      ],
      "text/plain": [
       "      creatorID creatorLastName creatorFirstName  \\\n",
       "0  Auth:509:309           Bouts             Dirk   \n",
       "\n",
       "                 creatorBirthAndDeathDescription creatorNationality  \\\n",
       "0  Haarlem (Pays-Bas) vers 1410 ? - Louvain 1475                NaN   \n",
       "\n",
       "   creatorDeathDate  creatorBirthDate  \n",
       "0            1475.0            1410.0  "
      ]
     },
     "execution_count": 25,
     "metadata": {},
     "output_type": "execute_result"
    }
   ],
   "source": [
    "ARTISTS = pd.read_csv(DB_INPUT_ARTISTS)\n",
    "ARTISTS.head(1)"
   ]
  },
  {
   "cell_type": "code",
   "execution_count": 8,
   "metadata": {},
   "outputs": [],
   "source": [
    "# Methods to get an image from a recordID\n",
    "def fixPath(path):\n",
    "    return path.replace(\".././\", \"../\")\n",
    "\n",
    "recordID_to_imageLowResFilename = {}\n",
    "for index, row in ARTWORKS.iterrows():\n",
    "    recordID = row[\"recordID\"]\n",
    "    path = row[\"imageLowResFilename\"]\n",
    "\n",
    "    # Fix the imageLowResFilename\n",
    "    path = fixPath(IMAGES_FOLDER + path[1:])\n",
    "\n",
    "    path = path.replace(\"internet\", \"Internet\")\n",
    "    path = path.replace(\"Mod\", \"mod\")\n",
    "    path = path.replace(\"MOD\", \"mod\")\n",
    "    path = path.replace(\"Old\", \"old\")\n",
    "    path = path.replace(\"Stefaan\", \"stefaan\")\n",
    "    path = path.replace(\"Art-Foto\", \"art-foto\")\n",
    "    path = path.replace(\"\\\\\", \"/\")\n",
    "\n",
    "    recordID_to_imageLowResFilename[recordID] = path\n",
    "\n",
    "# Test it\n",
    "for recordID, path in recordID_to_imageLowResFilename.items():\n",
    "    if not os.path.exists(path):\n",
    "        print(f\"Path does not exist: {path}\")"
   ]
  },
  {
   "cell_type": "code",
   "execution_count": 17,
   "metadata": {},
   "outputs": [],
   "source": [
    "basic_base = \"openai/clip-vit-large-patch14\"\n",
    "processor = CLIPProcessor.from_pretrained(basic_base)\n",
    "model = CLIPModel.from_pretrained(basic_base).to(device)\n",
    "tokenizer = transformers.AutoTokenizer.from_pretrained(basic_base)\n",
    "BATCH_SIZE = 2 # 32"
   ]
  },
  {
   "cell_type": "code",
   "execution_count": 14,
   "metadata": {},
   "outputs": [
    {
     "data": {
      "text/plain": [
       "5301"
      ]
     },
     "execution_count": 14,
     "metadata": {},
     "output_type": "execute_result"
    }
   ],
   "source": [
    "artworks_recordIDs = sorted(list(ARTWORKS[\"recordID\"]))\n",
    "len(artworks_recordIDs)"
   ]
  },
  {
   "cell_type": "code",
   "execution_count": 15,
   "metadata": {},
   "outputs": [
    {
     "name": "stderr",
     "output_type": "stream",
     "text": [
      "Computing artworks embeddings: 100%|██████████| 2651/2651 [02:26<00:00, 18.05batch/s]\n"
     ]
    },
    {
     "data": {
      "text/plain": [
       "(5301, 768)"
      ]
     },
     "execution_count": 15,
     "metadata": {},
     "output_type": "execute_result"
    }
   ],
   "source": [
    "class ArtworksImages(Dataset):\n",
    "    def __init__(self, recordIDs):\n",
    "        self.recordIDs = recordIDs\n",
    "\n",
    "    def __len__(self):\n",
    "        return len(self.recordIDs)\n",
    "\n",
    "    def __getitem__(self, idx):\n",
    "        if torch.is_tensor(idx):\n",
    "            idx = idx.tolist()\n",
    "\n",
    "        recordID = self.recordIDs[idx]\n",
    "        path = recordID_to_imageLowResFilename[recordID]\n",
    "\n",
    "        image = Image.open(path)\n",
    "\n",
    "        return image\n",
    "\n",
    "def ArtworksImagesBBuilder(images):\n",
    "    inputs = processor(text=[\"\"] * len(images), images=images, return_tensors=\"pt\", padding=True, truncation=True)\n",
    "    return inputs\n",
    "\n",
    "artworks_dataset = ArtworksImages(artworks_recordIDs)\n",
    "artworks_dataloader = DataLoader(\n",
    "    artworks_dataset,\n",
    "    batch_size=BATCH_SIZE,\n",
    "    shuffle=False,\n",
    "    num_workers=0,\n",
    "    collate_fn=ArtworksImagesBBuilder,\n",
    "    pin_memory=True,\n",
    ")\n",
    "\n",
    "def compute_images_embeddings(dataloader, model, device):\n",
    "    model.eval()\n",
    "    embeddings = []\n",
    "    with torch.no_grad():\n",
    "        for sample in tqdm(dataloader, desc=\"Computing artworks embeddings\", unit=\"batch\"):\n",
    "            input_ids = sample['input_ids'].to(device)\n",
    "            attention_mask = sample['attention_mask'].to(device)\n",
    "            pixel_values = sample['pixel_values'].to(device)\n",
    "\n",
    "            # Compute image embeddings\n",
    "            image_features = model.get_image_features(pixel_values=pixel_values)\n",
    "            image_features = image_features / image_features.norm(dim=-1, keepdim=True)\n",
    "            image_features = image_features.flatten(1)\n",
    "\n",
    "            embeddings.append(image_features)\n",
    "\n",
    "    embeddings = torch.cat(embeddings, dim=0)\n",
    "    embeddings = embeddings.cpu().numpy()\n",
    "    return embeddings\n",
    "\n",
    "artworks_embeddings_np_array = compute_images_embeddings(artworks_dataloader, model, device)\n",
    "artworks_embeddings_np_array.shape"
   ]
  },
  {
   "cell_type": "code",
   "execution_count": 19,
   "metadata": {},
   "outputs": [
    {
     "data": {
      "text/plain": [
       "[[1133, 854, 8655],\n",
       " [7441, 4932, 5652],\n",
       " [10517, 7951, 7951],\n",
       " [4598, 555, 2626],\n",
       " [1900, 6086, 1244],\n",
       " [11415, 7448, 11415]]"
      ]
     },
     "execution_count": 19,
     "metadata": {},
     "output_type": "execute_result"
    }
   ],
   "source": [
    "def get_text_embedding(text):\n",
    "    inputs = tokenizer(text, return_tensors=\"pt\", padding=True, truncation=True)\n",
    "    input_ids = inputs['input_ids'].to(device)\n",
    "    attention_mask = inputs['attention_mask'].to(device)\n",
    "\n",
    "    # Compute the embeddings\n",
    "    text_features = model.get_text_features(input_ids=input_ids, attention_mask=attention_mask)\n",
    "    text_features = text_features / text_features.norm(dim=-1, keepdim=True)\n",
    "    text_features = text_features.flatten(1)\n",
    "\n",
    "    return text_features.detach().cpu().numpy()\n",
    "\n",
    "rowNames = [\n",
    "    {\n",
    "        \"FR\": \"Une maison avec un jardin\",\n",
    "        \"EN\": \"A house with a garden\",\n",
    "        \"NL\": \"Een huis met een tuin\"\n",
    "    },\n",
    "    {\n",
    "        \"FR\": \"Un homme avec un chapeau\",\n",
    "        \"EN\": \"A man with a hat\",\n",
    "        \"NL\": \"Een man met een hoed\"\n",
    "    },\n",
    "    {\n",
    "        \"FR\": \"Un chien\",\n",
    "        \"EN\": \"A dog\",\n",
    "        \"NL\": \"Een hond\"\n",
    "    },\n",
    "    {\n",
    "        \"FR\": \"Un paysage avec un ciel nuageux\",\n",
    "        \"EN\": \"A landscape with a cloudy sky\",\n",
    "        \"NL\": \"Een landschap met een bewolkte hemel\"\n",
    "    },\n",
    "    {\n",
    "        \"FR\": \"Deux personnes qui se tiennent la main\",\n",
    "        \"EN\": \"Two people holding hands\",\n",
    "        \"NL\": \"Twee mensen die elkaars hand vasthouden\"\n",
    "    },\n",
    "    {\n",
    "        \"FR\": \"Un chat sur un canapé\",\n",
    "        \"EN\": \"A cat on a sofa\",\n",
    "        \"NL\": \"Een kat op een bank\"\n",
    "    },\n",
    "]\n",
    "\n",
    "best_images = []\n",
    "for rowName in rowNames:\n",
    "    best_images_row = []\n",
    "    for lang in [\"FR\", \"EN\", \"NL\"]:\n",
    "        text = rowName[lang]\n",
    "        text_embedding = get_text_embedding(text)\n",
    "        similarities = cosine_similarity(artworks_embeddings_np_array, text_embedding)\n",
    "        best_image_index = np.argmax(similarities)\n",
    "        best_images_row.append(artworks_recordIDs[best_image_index])\n",
    "\n",
    "    best_images.append(best_images_row)\n",
    "\n",
    "best_images"
   ]
  },
  {
   "cell_type": "code",
   "execution_count": 26,
   "metadata": {},
   "outputs": [],
   "source": [
    "def getDataFromRecordID(recordID):\n",
    "    \n",
    "    DB_entry = ARTWORKS.loc[ARTWORKS[\"recordID\"] == recordID]\n",
    "\n",
    "    # Get title\n",
    "    title = DB_entry[\"title\"].values[0]\n",
    "\n",
    "    # Get creator\n",
    "    creatorID = DB_entry[\"creatorID\"].values[0]\n",
    "    creatorDescription = DB_entry[\"creatorFullDescription\"].values[0]\n",
    "    \n",
    "    if not pd.isna(creatorID):\n",
    "        ARTIST_entry = ARTISTS.loc[ARTISTS[\"creatorID\"] == DB_entry[\"creatorID\"].values[0]]\n",
    "        creatorFirstName = ARTIST_entry[\"creatorFirstName\"].values[0]\n",
    "        creatorLastName = ARTIST_entry[\"creatorLastName\"].values[0]\n",
    "        if not pd.isna(creatorFirstName) and not pd.isna(creatorLastName):\n",
    "            creatorDescription = f\"{creatorFirstName} {creatorLastName}\"\n",
    "\n",
    "    # Get the image\n",
    "    image_path = recordID_to_imageLowResFilename[recordID]\n",
    "\n",
    "    return {\n",
    "        \"image_path\": image_path,\n",
    "        \"recordID\": recordID,\n",
    "        \"title\": title,\n",
    "        \"artist\": creatorDescription,\n",
    "    }"
   ]
  },
  {
   "cell_type": "code",
   "execution_count": 38,
   "metadata": {},
   "outputs": [
    {
     "name": "stdout",
     "output_type": "stream",
     "text": [
      "FR Une maison avec un jardin\n",
      "EN A house with a garden\n",
      "NL Een huis met een tuin\n",
      "FR Un homme avec un chapeau\n",
      "EN A man with a hat\n",
      "NL Een man met een hoed\n",
      "FR Un chien\n",
      "EN A dog\n",
      "NL Een hond\n",
      "FR Un paysage avec un ciel nuageux\n",
      "EN A landscape with a cloudy sky\n",
      "NL Een landschap met een bewolkte hemel\n",
      "FR Deux personnes qui se tiennent la main\n",
      "EN Two people holding hands\n",
      "NL Twee mensen die elkaars hand vasthouden\n",
      "FR Un chat sur un canapé\n",
      "EN A cat on a sofa\n",
      "NL Een kat op een bank\n"
     ]
    },
    {
     "data": {
      "image/png": "[encoded data removed]",
      "text/plain": [
       "<Figure size 1500x2000 with 18 Axes>"
      ]
     },
     "metadata": {},
     "output_type": "display_data"
    }
   ],
   "source": [
    "best_image_data = []\n",
    "fig, axs = plt.subplots(len(rowNames), 3, figsize=(15, 20))\n",
    "for i, rowName in enumerate(rowNames):\n",
    "    best_image_data_row = []\n",
    "    for j, lang in enumerate([\"FR\", \"EN\", \"NL\"]):\n",
    "        text = rowName[lang]\n",
    "        recordID = best_images[i][j]\n",
    "        data = getDataFromRecordID(recordID)\n",
    "        best_image_data_row.append(data[\"image_path\"])\n",
    "        title = data[\"title\"]\n",
    "        artist = data[\"artist\"]\n",
    "        print(lang, text)\n",
    "        \n",
    "    best_image_data.append(best_image_data_row)\n",
    "\n",
    "#plt.tight_layout()\n",
    "#plt.show()"
   ]
  },
  {
   "cell_type": "code",
   "execution_count": 33,
   "metadata": {},
   "outputs": [
    {
     "name": "stdout",
     "output_type": "stream",
     "text": [
      "Captions:\n",
      "    FR: Une maison avec un jardin ./../../private_data/local_images/art-foto/mod/Internet/Claus-4006-L.jpg\n",
      "    EN: A house with a garden ./../../private_data/local_images/art-foto/mod/Internet/DeBraekeleer-4083-L.jpg\n",
      "    NL: Een huis met een tuin ./../../private_data/local_images/art-foto/old/Internet/Pronk-4060_2916dig-L.jpg\n",
      "Captions:\n",
      "    FR: Un homme avec un chapeau ./../../private_data/local_images/art-foto/old/Internet/Dou-4060.1106ZW-L.jpg\n",
      "    EN: A man with a hat ./../../private_data/local_images/art-foto/old/Internet/Leveck-3557-L.jpg\n",
      "    NL: Een man met een hoed ./../../private_data/local_images/art-foto/old/Internet/Jordaens-3295dig-L.jpg\n",
      "Captions:\n",
      "    FR: Un chien ./../../private_data/local_images/art-foto/mod/Internet/Stevens-3570-L.jpg\n",
      "    EN: A dog ./../../private_data/local_images/art-foto/old/Internet/vanderWerff-4060_4006-L.jpg\n",
      "    NL: Een hond ./../../private_data/local_images/art-foto/old/Internet/vanderWerff-4060_4006-L.jpg\n",
      "Captions:\n",
      "    FR: Un paysage avec un ciel nuageux ./../../private_data/local_images/art-foto/mod/Internet/Verwee-9140-L.jpg\n",
      "    EN: A landscape with a cloudy sky ./../../private_data/local_images/art-foto/mod/Internet/Asselbergs-4110-L.jpg\n",
      "    NL: Een landschap met een bewolkte hemel ./../../private_data/local_images/art-foto/mod/Internet/deJonghe-68dig-L.jpg\n",
      "Captions:\n",
      "    FR: Deux personnes qui se tiennent la main ./../../private_data/local_images/art-foto/mod/Internet/Forain-4028-L.jpg\n",
      "    EN: Two people holding hands ./../../private_data/local_images/art-foto/old/Internet/Anoniem-4060.2241dig-L.jpg\n",
      "    NL: Twee mensen die elkaars hand vasthouden ./../../private_data/local_images/art-foto/old/Internet/Vinckboons-10837-L.jpg\n",
      "Captions:\n",
      "    FR: Un chat sur un canapé ./../../private_data/local_images/art-foto/old/Internet/Weenix-3373-L.jpg\n",
      "    EN: A cat on a sofa ./../../private_data/local_images/art-foto/mod/Internet/Oyens-3293-L.jpg\n",
      "    NL: Een kat op een bank ./../../private_data/local_images/art-foto/old/Internet/Weenix-3373-L.jpg\n"
     ]
    }
   ],
   "source": [
    "import shutil\n",
    "\n",
    "os.makedirs(\"temp_images\", exist_ok=True)\n",
    "for row in range(len(rowNames)):\n",
    "    print(\"Captions:\")\n",
    "    for langIndex, lang in enumerate([\"FR\", \"EN\", \"NL\"]):\n",
    "        print(f\"    {lang}: {rowNames[row][lang]}\", best_image_data[row][langIndex])\n",
    "        # Copy the image to the temp folder\n",
    "        image_path = best_image_data[row][langIndex]\n",
    "        shutil.copy(image_path, f\"temp_images/{row}_{lang}.jpg\")"
   ]
  }
 ],
 "metadata": {
  "kernelspec": {
   "display_name": ".venv",
   "language": "python",
   "name": "python3"
  },
  "language_info": {
   "codemirror_mode": {
    "name": "ipython",
    "version": 3
   },
   "file_extension": ".py",
   "mimetype": "text/x-python",
   "name": "python",
   "nbconvert_exporter": "python",
   "pygments_lexer": "ipython3",
   "version": "3.9.0"
  }
 },
 "nbformat": 4,
 "nbformat_minor": 2
}
