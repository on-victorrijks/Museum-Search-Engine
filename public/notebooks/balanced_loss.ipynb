{
 "cells": [
  {
   "cell_type": "code",
   "execution_count": 2,
   "id": "9269ae55",
   "metadata": {},
   "outputs": [],
   "source": [
    "import torch\n",
    "from torch.utils.data import Dataset, DataLoader\n",
    "from transformers import CLIPProcessor, CLIPModel\n",
    "import numpy as np\n",
    "from PIL import Image"
   ]
  },
  {
   "cell_type": "code",
   "execution_count": 3,
   "id": "25a9d504",
   "metadata": {},
   "outputs": [],
   "source": [
    "class DT(Dataset):\n",
    "    def __init__(self, n_X=40, n_Y=20, embed_dim=512):\n",
    "        num_samples = n_X + n_Y\n",
    "        self.types = torch.tensor([1] * n_X + [0] * n_Y)\n",
    "        self.images = np.array([Image.fromarray((np.random.rand(224, 224, 3) * 255).astype(np.uint8)) for _ in range(num_samples)])\n",
    "        self.texts = [f\"Caption {i}\" for i in range(num_samples)]\n",
    "\n",
    "    def __len__(self):\n",
    "        return len(self.texts)\n",
    "\n",
    "    def __getitem__(self, idx):\n",
    "        return self.images[idx], self.texts[idx], self.types[idx]"
   ]
  },
  {
   "cell_type": "code",
   "execution_count": 4,
   "id": "9fe1f4f1",
   "metadata": {},
   "outputs": [],
   "source": [
    "device = torch.device(\"cuda\" if torch.cuda.is_available() else \"cpu\")\n",
    "\n",
    "model = CLIPModel.from_pretrained(\"openai/clip-vit-base-patch32\").to(device)\n",
    "processor = CLIPProcessor.from_pretrained(\"openai/clip-vit-base-patch32\")"
   ]
  },
  {
   "cell_type": "code",
   "execution_count": 5,
   "id": "ccead0f4",
   "metadata": {},
   "outputs": [
    {
     "name": "stdout",
     "output_type": "stream",
     "text": [
      "Input IDs shape: torch.Size([8, 5])\n",
      "Attention mask shape: torch.Size([8, 5])\n",
      "Pixel values shape: torch.Size([8, 3, 224, 224])\n",
      "Types shape: torch.Size([8])\n"
     ]
    }
   ],
   "source": [
    "def collate_fn(batch):\n",
    "    images, texts, types = zip(*batch)\n",
    "    inputs = processor(text=texts, images=images, return_tensors=\"pt\", padding=True, truncation=True)\n",
    "    types = torch.stack(types).to(device)\n",
    "    return inputs, types\n",
    "\n",
    "dataset = DT(n_X=40, n_Y=10)\n",
    "dataloader = DataLoader(dataset, batch_size=8, shuffle=True, collate_fn=collate_fn)\n",
    "\n",
    "optimizer = torch.optim.Adam(model.parameters(), lr=1e-5)\n",
    "\n",
    "for batch in dataloader:\n",
    "    inputs, types = batch\n",
    "\n",
    "    input_ids = inputs[\"input_ids\"].to(device)\n",
    "    attention_mask = inputs[\"attention_mask\"].to(device)\n",
    "    pixel_values = inputs[\"pixel_values\"].to(device)\n",
    "    types = types.to(device)\n",
    "\n",
    "    print(\"Input IDs shape:\", input_ids.shape)\n",
    "    print(\"Attention mask shape:\", attention_mask.shape)\n",
    "    print(\"Pixel values shape:\", pixel_values.shape)\n",
    "    print(\"Types shape:\", types.shape)\n",
    "\n",
    "    break"
   ]
  },
  {
   "cell_type": "code",
   "execution_count": null,
   "id": "3511bf91",
   "metadata": {},
   "outputs": [
    {
     "name": "stdout",
     "output_type": "stream",
     "text": [
      "Epoch 1 — Loss: 4.0336\n",
      "Epoch 2 — Loss: 4.0483\n",
      "Epoch 3 — Loss: 4.0370\n"
     ]
    },
    {
     "ename": "",
     "evalue": "",
     "output_type": "error",
     "traceback": [
      "\u001b[1;31mThe Kernel crashed while executing code in the current cell or a previous cell. \n",
      "\u001b[1;31mPlease review the code in the cell(s) to identify a possible cause of the failure. \n",
      "\u001b[1;31mClick <a href='https://aka.ms/vscodeJupyterKernelCrash'>here</a> for more info. \n",
      "\u001b[1;31mView Jupyter <a href='command:jupyter.viewOutput'>log</a> for further details."
     ]
    }
   ],
   "source": [
    "criterion = torch.nn.CrossEntropyLoss(reduction=\"none\") # We use 'none' to compute the loss for each sample !\n",
    "\n",
    "def balanced_clip_loss(logits_per_text, logits_per_image, targets, types):\n",
    "    \"\"\"\n",
    "    Classic CLIP loss:\n",
    "\n",
    "        texts_loss = criterion(logits_per_text, targets)\n",
    "        images_loss = criterion(logits_per_image, targets)\n",
    "        loss = (images_loss + texts_loss) / 2.0\n",
    "\n",
    "    \"\"\"\n",
    "\n",
    "    n_X = sum([1 if t==1 else 0 for t in dataset.types])\n",
    "    n_Y = sum([1 if t==0 else 0 for t in dataset.types])\n",
    "\n",
    "    fX = 1 / n_X\n",
    "    fY = 1 / n_Y\n",
    "\n",
    "\n",
    "    weights = [fX if t == 1 else fY for t in types]\n",
    "    weights = torch.tensor(weights).to(device)\n",
    "\n",
    "    texts_loss = criterion(logits_per_text, targets)\n",
    "    images_loss = criterion(logits_per_image, targets)\n",
    "\n",
    "    images_loss_balanced = images_loss * weights\n",
    "    texts_loss_balanced = texts_loss * weights\n",
    "\n",
    "    images_loss_balanced = images_loss_balanced.mean()\n",
    "    texts_loss_balanced = texts_loss_balanced.mean()\n",
    "\n",
    "    loss = (images_loss_balanced + texts_loss_balanced) / 2.0\n",
    "    return loss\n",
    "\n",
    "model.train()\n",
    "for epoch in range(3):\n",
    "    loss_tot = 0\n",
    "    loss_tracker = []\n",
    "    for batch in dataloader:\n",
    "        \n",
    "        inputs, types = batch\n",
    "\n",
    "        input_ids = inputs[\"input_ids\"].to(device)\n",
    "        attention_mask = inputs[\"attention_mask\"].to(device)\n",
    "        pixel_values = inputs[\"pixel_values\"].to(device)\n",
    "        types = types.to(device)\n",
    "\n",
    "        # Generate model outputs\n",
    "        outputs = model(input_ids=input_ids, pixel_values=pixel_values, attention_mask=attention_mask)\n",
    "        logits_per_image = outputs.logits_per_image\n",
    "        logits_per_text = outputs.logits_per_text\n",
    "\n",
    "        # Compute the embeddings\n",
    "        image_embeddings = outputs.image_embeds\n",
    "        text_embeddings = outputs.text_embeds\n",
    "\n",
    "        # Normalize\n",
    "        image_embeddings /= image_embeddings.norm(dim=-1, keepdim=True)\n",
    "        text_embeddings /= text_embeddings.norm(dim=-1, keepdim=True)\n",
    "\n",
    "        # Ground truth for this batch\n",
    "        batch_size = logits_per_image.size(0)\n",
    "        targets = torch.arange(batch_size).to(device)  # Correct index corresponds to diagonal\n",
    "\n",
    "        loss = balanced_clip_loss(logits_per_text, logits_per_image, targets, types)\n",
    "\n",
    "        loss_tot += loss.item() * batch_size\n",
    "\n",
    "    print(f\"Epoch {epoch+1} — Loss: {loss_tot:.4f}\")\n"
   ]
  }
 ],
 "metadata": {
  "kernelspec": {
   "display_name": ".venv",
   "language": "python",
   "name": "python3"
  },
  "language_info": {
   "codemirror_mode": {
    "name": "ipython",
    "version": 3
   },
   "file_extension": ".py",
   "mimetype": "text/x-python",
   "name": "python",
   "nbconvert_exporter": "python",
   "pygments_lexer": "ipython3",
   "version": "3.9.0"
  }
 },
 "nbformat": 4,
 "nbformat_minor": 5
}
